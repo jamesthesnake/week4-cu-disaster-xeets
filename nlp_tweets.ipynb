{
 "cells": [
  {
   "cell_type": "markdown",
   "metadata": {},
   "source": [
    "# Library Imports"
   ]
  },
  {
   "cell_type": "code",
   "execution_count": 1,
   "metadata": {},
   "outputs": [
    {
     "name": "stdout",
     "output_type": "stream",
     "text": [
      "Looking in indexes: https://pypi.org/simple, https://pypi.ngc.nvidia.com\n",
      "Collecting tensorflow==2.12.0\n",
      "  Downloading tensorflow-2.12.0-cp310-cp310-win_amd64.whl.metadata (2.5 kB)\n",
      "Requirement already satisfied: tensorflow-intel==2.12.0 in c:\\users\\willa\\documents\\github\\dnn_nlp_tweets\\.venv\\lib\\site-packages (from tensorflow==2.12.0) (2.12.0)\n",
      "Requirement already satisfied: absl-py>=1.0.0 in c:\\users\\willa\\documents\\github\\dnn_nlp_tweets\\.venv\\lib\\site-packages (from tensorflow-intel==2.12.0->tensorflow==2.12.0) (2.1.0)\n",
      "Requirement already satisfied: astunparse>=1.6.0 in c:\\users\\willa\\documents\\github\\dnn_nlp_tweets\\.venv\\lib\\site-packages (from tensorflow-intel==2.12.0->tensorflow==2.12.0) (1.6.3)\n",
      "Requirement already satisfied: flatbuffers>=2.0 in c:\\users\\willa\\documents\\github\\dnn_nlp_tweets\\.venv\\lib\\site-packages (from tensorflow-intel==2.12.0->tensorflow==2.12.0) (24.3.25)\n",
      "Requirement already satisfied: gast<=0.4.0,>=0.2.1 in c:\\users\\willa\\documents\\github\\dnn_nlp_tweets\\.venv\\lib\\site-packages (from tensorflow-intel==2.12.0->tensorflow==2.12.0) (0.4.0)\n",
      "Requirement already satisfied: google-pasta>=0.1.1 in c:\\users\\willa\\documents\\github\\dnn_nlp_tweets\\.venv\\lib\\site-packages (from tensorflow-intel==2.12.0->tensorflow==2.12.0) (0.2.0)\n",
      "Requirement already satisfied: h5py>=2.9.0 in c:\\users\\willa\\documents\\github\\dnn_nlp_tweets\\.venv\\lib\\site-packages (from tensorflow-intel==2.12.0->tensorflow==2.12.0) (3.11.0)\n",
      "Requirement already satisfied: jax>=0.3.15 in c:\\users\\willa\\documents\\github\\dnn_nlp_tweets\\.venv\\lib\\site-packages (from tensorflow-intel==2.12.0->tensorflow==2.12.0) (0.4.26)\n",
      "Requirement already satisfied: libclang>=13.0.0 in c:\\users\\willa\\documents\\github\\dnn_nlp_tweets\\.venv\\lib\\site-packages (from tensorflow-intel==2.12.0->tensorflow==2.12.0) (18.1.1)\n",
      "Collecting numpy<1.24,>=1.22 (from tensorflow-intel==2.12.0->tensorflow==2.12.0)\n",
      "  Downloading numpy-1.23.5-cp310-cp310-win_amd64.whl.metadata (2.3 kB)\n",
      "Requirement already satisfied: opt-einsum>=2.3.2 in c:\\users\\willa\\documents\\github\\dnn_nlp_tweets\\.venv\\lib\\site-packages (from tensorflow-intel==2.12.0->tensorflow==2.12.0) (3.3.0)\n",
      "Requirement already satisfied: packaging in c:\\users\\willa\\documents\\github\\dnn_nlp_tweets\\.venv\\lib\\site-packages (from tensorflow-intel==2.12.0->tensorflow==2.12.0) (24.0)\n",
      "Collecting protobuf!=4.21.0,!=4.21.1,!=4.21.2,!=4.21.3,!=4.21.4,!=4.21.5,<5.0.0dev,>=3.20.3 (from tensorflow-intel==2.12.0->tensorflow==2.12.0)\n",
      "  Downloading protobuf-4.25.3-cp310-abi3-win_amd64.whl.metadata (541 bytes)\n",
      "Requirement already satisfied: setuptools in c:\\users\\willa\\documents\\github\\dnn_nlp_tweets\\.venv\\lib\\site-packages (from tensorflow-intel==2.12.0->tensorflow==2.12.0) (65.5.0)\n",
      "Requirement already satisfied: six>=1.12.0 in c:\\users\\willa\\documents\\github\\dnn_nlp_tweets\\.venv\\lib\\site-packages (from tensorflow-intel==2.12.0->tensorflow==2.12.0) (1.16.0)\n",
      "Requirement already satisfied: termcolor>=1.1.0 in c:\\users\\willa\\documents\\github\\dnn_nlp_tweets\\.venv\\lib\\site-packages (from tensorflow-intel==2.12.0->tensorflow==2.12.0) (2.4.0)\n",
      "Requirement already satisfied: typing-extensions>=3.6.6 in c:\\users\\willa\\documents\\github\\dnn_nlp_tweets\\.venv\\lib\\site-packages (from tensorflow-intel==2.12.0->tensorflow==2.12.0) (4.11.0)\n",
      "Requirement already satisfied: wrapt<1.15,>=1.11.0 in c:\\users\\willa\\documents\\github\\dnn_nlp_tweets\\.venv\\lib\\site-packages (from tensorflow-intel==2.12.0->tensorflow==2.12.0) (1.14.1)\n",
      "Requirement already satisfied: grpcio<2.0,>=1.24.3 in c:\\users\\willa\\documents\\github\\dnn_nlp_tweets\\.venv\\lib\\site-packages (from tensorflow-intel==2.12.0->tensorflow==2.12.0) (1.62.2)\n",
      "Collecting tensorboard<2.13,>=2.12 (from tensorflow-intel==2.12.0->tensorflow==2.12.0)\n",
      "  Downloading tensorboard-2.12.3-py3-none-any.whl.metadata (1.8 kB)\n",
      "Collecting tensorflow-estimator<2.13,>=2.12.0 (from tensorflow-intel==2.12.0->tensorflow==2.12.0)\n",
      "  Downloading tensorflow_estimator-2.12.0-py2.py3-none-any.whl.metadata (1.3 kB)\n",
      "Collecting keras<2.13,>=2.12.0 (from tensorflow-intel==2.12.0->tensorflow==2.12.0)\n",
      "  Downloading keras-2.12.0-py2.py3-none-any.whl.metadata (1.4 kB)\n",
      "Requirement already satisfied: tensorflow-io-gcs-filesystem>=0.23.1 in c:\\users\\willa\\documents\\github\\dnn_nlp_tweets\\.venv\\lib\\site-packages (from tensorflow-intel==2.12.0->tensorflow==2.12.0) (0.31.0)\n",
      "Requirement already satisfied: wheel<1.0,>=0.23.0 in c:\\users\\willa\\documents\\github\\dnn_nlp_tweets\\.venv\\lib\\site-packages (from astunparse>=1.6.0->tensorflow-intel==2.12.0->tensorflow==2.12.0) (0.43.0)\n",
      "Requirement already satisfied: ml-dtypes>=0.2.0 in c:\\users\\willa\\documents\\github\\dnn_nlp_tweets\\.venv\\lib\\site-packages (from jax>=0.3.15->tensorflow-intel==2.12.0->tensorflow==2.12.0) (0.3.2)\n",
      "Requirement already satisfied: scipy>=1.9 in c:\\users\\willa\\documents\\github\\dnn_nlp_tweets\\.venv\\lib\\site-packages (from jax>=0.3.15->tensorflow-intel==2.12.0->tensorflow==2.12.0) (1.13.0)\n",
      "Requirement already satisfied: google-auth<3,>=1.6.3 in c:\\users\\willa\\documents\\github\\dnn_nlp_tweets\\.venv\\lib\\site-packages (from tensorboard<2.13,>=2.12->tensorflow-intel==2.12.0->tensorflow==2.12.0) (2.29.0)\n",
      "Collecting google-auth-oauthlib<1.1,>=0.5 (from tensorboard<2.13,>=2.12->tensorflow-intel==2.12.0->tensorflow==2.12.0)\n",
      "  Downloading google_auth_oauthlib-1.0.0-py2.py3-none-any.whl.metadata (2.7 kB)\n",
      "Requirement already satisfied: markdown>=2.6.8 in c:\\users\\willa\\documents\\github\\dnn_nlp_tweets\\.venv\\lib\\site-packages (from tensorboard<2.13,>=2.12->tensorflow-intel==2.12.0->tensorflow==2.12.0) (3.6)\n",
      "Requirement already satisfied: requests<3,>=2.21.0 in c:\\users\\willa\\documents\\github\\dnn_nlp_tweets\\.venv\\lib\\site-packages (from tensorboard<2.13,>=2.12->tensorflow-intel==2.12.0->tensorflow==2.12.0) (2.31.0)\n",
      "Collecting tensorboard-data-server<0.8.0,>=0.7.0 (from tensorboard<2.13,>=2.12->tensorflow-intel==2.12.0->tensorflow==2.12.0)\n",
      "  Downloading tensorboard_data_server-0.7.2-py3-none-any.whl.metadata (1.1 kB)\n",
      "Requirement already satisfied: werkzeug>=1.0.1 in c:\\users\\willa\\documents\\github\\dnn_nlp_tweets\\.venv\\lib\\site-packages (from tensorboard<2.13,>=2.12->tensorflow-intel==2.12.0->tensorflow==2.12.0) (3.0.2)\n",
      "Requirement already satisfied: cachetools<6.0,>=2.0.0 in c:\\users\\willa\\documents\\github\\dnn_nlp_tweets\\.venv\\lib\\site-packages (from google-auth<3,>=1.6.3->tensorboard<2.13,>=2.12->tensorflow-intel==2.12.0->tensorflow==2.12.0) (5.3.3)\n",
      "Requirement already satisfied: pyasn1-modules>=0.2.1 in c:\\users\\willa\\documents\\github\\dnn_nlp_tweets\\.venv\\lib\\site-packages (from google-auth<3,>=1.6.3->tensorboard<2.13,>=2.12->tensorflow-intel==2.12.0->tensorflow==2.12.0) (0.4.0)\n",
      "Requirement already satisfied: rsa<5,>=3.1.4 in c:\\users\\willa\\documents\\github\\dnn_nlp_tweets\\.venv\\lib\\site-packages (from google-auth<3,>=1.6.3->tensorboard<2.13,>=2.12->tensorflow-intel==2.12.0->tensorflow==2.12.0) (4.9)\n",
      "Requirement already satisfied: requests-oauthlib>=0.7.0 in c:\\users\\willa\\documents\\github\\dnn_nlp_tweets\\.venv\\lib\\site-packages (from google-auth-oauthlib<1.1,>=0.5->tensorboard<2.13,>=2.12->tensorflow-intel==2.12.0->tensorflow==2.12.0) (2.0.0)\n",
      "Requirement already satisfied: charset-normalizer<4,>=2 in c:\\users\\willa\\documents\\github\\dnn_nlp_tweets\\.venv\\lib\\site-packages (from requests<3,>=2.21.0->tensorboard<2.13,>=2.12->tensorflow-intel==2.12.0->tensorflow==2.12.0) (3.3.2)\n",
      "Requirement already satisfied: idna<4,>=2.5 in c:\\users\\willa\\documents\\github\\dnn_nlp_tweets\\.venv\\lib\\site-packages (from requests<3,>=2.21.0->tensorboard<2.13,>=2.12->tensorflow-intel==2.12.0->tensorflow==2.12.0) (3.7)\n",
      "Requirement already satisfied: urllib3<3,>=1.21.1 in c:\\users\\willa\\documents\\github\\dnn_nlp_tweets\\.venv\\lib\\site-packages (from requests<3,>=2.21.0->tensorboard<2.13,>=2.12->tensorflow-intel==2.12.0->tensorflow==2.12.0) (2.2.1)\n",
      "Requirement already satisfied: certifi>=2017.4.17 in c:\\users\\willa\\documents\\github\\dnn_nlp_tweets\\.venv\\lib\\site-packages (from requests<3,>=2.21.0->tensorboard<2.13,>=2.12->tensorflow-intel==2.12.0->tensorflow==2.12.0) (2024.2.2)\n",
      "Requirement already satisfied: MarkupSafe>=2.1.1 in c:\\users\\willa\\documents\\github\\dnn_nlp_tweets\\.venv\\lib\\site-packages (from werkzeug>=1.0.1->tensorboard<2.13,>=2.12->tensorflow-intel==2.12.0->tensorflow==2.12.0) (2.1.5)\n",
      "Requirement already satisfied: pyasn1<0.7.0,>=0.4.6 in c:\\users\\willa\\documents\\github\\dnn_nlp_tweets\\.venv\\lib\\site-packages (from pyasn1-modules>=0.2.1->google-auth<3,>=1.6.3->tensorboard<2.13,>=2.12->tensorflow-intel==2.12.0->tensorflow==2.12.0) (0.6.0)\n",
      "Requirement already satisfied: oauthlib>=3.0.0 in c:\\users\\willa\\documents\\github\\dnn_nlp_tweets\\.venv\\lib\\site-packages (from requests-oauthlib>=0.7.0->google-auth-oauthlib<1.1,>=0.5->tensorboard<2.13,>=2.12->tensorflow-intel==2.12.0->tensorflow==2.12.0) (3.2.2)\n",
      "Downloading tensorflow-2.12.0-cp310-cp310-win_amd64.whl (1.9 kB)\n",
      "Downloading keras-2.12.0-py2.py3-none-any.whl (1.7 MB)\n",
      "   ---------------------------------------- 0.0/1.7 MB ? eta -:--:--\n",
      "   -- ------------------------------------- 0.1/1.7 MB 3.2 MB/s eta 0:00:01\n",
      "   -------- ------------------------------- 0.4/1.7 MB 4.5 MB/s eta 0:00:01\n",
      "   -------------- ------------------------- 0.6/1.7 MB 5.5 MB/s eta 0:00:01\n",
      "   -------------------- ------------------- 0.9/1.7 MB 5.2 MB/s eta 0:00:01\n",
      "   ------------------------------ --------- 1.3/1.7 MB 5.9 MB/s eta 0:00:01\n",
      "   --------------------------------- ------ 1.5/1.7 MB 5.5 MB/s eta 0:00:01\n",
      "   ---------------------------------------- 1.7/1.7 MB 5.8 MB/s eta 0:00:00\n",
      "Downloading numpy-1.23.5-cp310-cp310-win_amd64.whl (14.6 MB)\n",
      "   ---------------------------------------- 0.0/14.6 MB ? eta -:--:--\n",
      "    --------------------------------------- 0.2/14.6 MB 4.2 MB/s eta 0:00:04\n",
      "   - -------------------------------------- 0.6/14.6 MB 6.4 MB/s eta 0:00:03\n",
      "   -- ------------------------------------- 1.0/14.6 MB 8.1 MB/s eta 0:00:02\n",
      "   --- ------------------------------------ 1.3/14.6 MB 7.0 MB/s eta 0:00:02\n",
      "   ---- ----------------------------------- 1.8/14.6 MB 8.0 MB/s eta 0:00:02\n",
      "   ------ --------------------------------- 2.3/14.6 MB 8.7 MB/s eta 0:00:02\n",
      "   ------- -------------------------------- 2.7/14.6 MB 8.7 MB/s eta 0:00:02\n",
      "   -------- ------------------------------- 3.0/14.6 MB 8.8 MB/s eta 0:00:02\n",
      "   --------- ------------------------------ 3.5/14.6 MB 8.5 MB/s eta 0:00:02\n",
      "   ---------- ----------------------------- 3.8/14.6 MB 8.4 MB/s eta 0:00:02\n",
      "   ----------- ---------------------------- 4.1/14.6 MB 8.2 MB/s eta 0:00:02\n",
      "   ------------ --------------------------- 4.5/14.6 MB 8.7 MB/s eta 0:00:02\n",
      "   ------------ --------------------------- 4.7/14.6 MB 8.0 MB/s eta 0:00:02\n",
      "   -------------- ------------------------- 5.3/14.6 MB 8.4 MB/s eta 0:00:02\n",
      "   --------------- ------------------------ 5.6/14.6 MB 8.1 MB/s eta 0:00:02\n",
      "   ---------------- ----------------------- 5.9/14.6 MB 8.2 MB/s eta 0:00:02\n",
      "   ----------------- ---------------------- 6.3/14.6 MB 8.1 MB/s eta 0:00:02\n",
      "   ------------------ --------------------- 6.7/14.6 MB 8.3 MB/s eta 0:00:01\n",
      "   ------------------- -------------------- 7.1/14.6 MB 8.1 MB/s eta 0:00:01\n",
      "   -------------------- ------------------- 7.7/14.6 MB 8.4 MB/s eta 0:00:01\n",
      "   ---------------------- ----------------- 8.1/14.6 MB 8.5 MB/s eta 0:00:01\n",
      "   ----------------------- ---------------- 8.5/14.6 MB 8.4 MB/s eta 0:00:01\n",
      "   ------------------------ --------------- 9.1/14.6 MB 8.7 MB/s eta 0:00:01\n",
      "   ------------------------- -------------- 9.4/14.6 MB 8.6 MB/s eta 0:00:01\n",
      "   --------------------------- ------------ 10.0/14.6 MB 8.7 MB/s eta 0:00:01\n",
      "   ---------------------------- ----------- 10.4/14.6 MB 9.0 MB/s eta 0:00:01\n",
      "   ----------------------------- ---------- 10.9/14.6 MB 9.0 MB/s eta 0:00:01\n",
      "   ------------------------------- -------- 11.6/14.6 MB 9.4 MB/s eta 0:00:01\n",
      "   -------------------------------- ------- 12.1/14.6 MB 9.4 MB/s eta 0:00:01\n",
      "   ---------------------------------- ----- 12.5/14.6 MB 9.2 MB/s eta 0:00:01\n",
      "   ----------------------------------- ---- 13.1/14.6 MB 9.4 MB/s eta 0:00:01\n",
      "   ------------------------------------ --- 13.5/14.6 MB 9.5 MB/s eta 0:00:01\n",
      "   -------------------------------------- - 14.0/14.6 MB 9.6 MB/s eta 0:00:01\n",
      "   ---------------------------------------  14.5/14.6 MB 9.8 MB/s eta 0:00:01\n",
      "   ---------------------------------------- 14.6/14.6 MB 9.3 MB/s eta 0:00:00\n",
      "Downloading protobuf-4.25.3-cp310-abi3-win_amd64.whl (413 kB)\n",
      "   ---------------------------------------- 0.0/413.4 kB ? eta -:--:--\n",
      "   --------------------------------------- 413.4/413.4 kB 13.0 MB/s eta 0:00:00\n",
      "Downloading tensorboard-2.12.3-py3-none-any.whl (5.6 MB)\n",
      "   ---------------------------------------- 0.0/5.6 MB ? eta -:--:--\n",
      "   --- ------------------------------------ 0.5/5.6 MB 30.7 MB/s eta 0:00:01\n",
      "   ------- -------------------------------- 1.1/5.6 MB 13.7 MB/s eta 0:00:01\n",
      "   ------------ --------------------------- 1.8/5.6 MB 14.6 MB/s eta 0:00:01\n",
      "   ----------------- ---------------------- 2.4/5.6 MB 15.6 MB/s eta 0:00:01\n",
      "   --------------------- ------------------ 3.0/5.6 MB 14.6 MB/s eta 0:00:01\n",
      "   ------------------------ --------------- 3.4/5.6 MB 13.7 MB/s eta 0:00:01\n",
      "   ------------------------------ --------- 4.3/5.6 MB 14.4 MB/s eta 0:00:01\n",
      "   --------------------------------- ------ 4.7/5.6 MB 13.1 MB/s eta 0:00:01\n",
      "   -------------------------------------- - 5.5/5.6 MB 14.0 MB/s eta 0:00:01\n",
      "   ---------------------------------------- 5.6/5.6 MB 13.9 MB/s eta 0:00:00\n",
      "Downloading tensorflow_estimator-2.12.0-py2.py3-none-any.whl (440 kB)\n",
      "   ---------------------------------------- 0.0/440.7 kB ? eta -:--:--\n",
      "   --------------------------------------- 440.7/440.7 kB 13.9 MB/s eta 0:00:00\n",
      "Downloading google_auth_oauthlib-1.0.0-py2.py3-none-any.whl (18 kB)\n",
      "Downloading tensorboard_data_server-0.7.2-py3-none-any.whl (2.4 kB)\n",
      "Installing collected packages: tensorflow-estimator, tensorboard-data-server, protobuf, numpy, keras, google-auth-oauthlib, tensorboard, tensorflow\n",
      "  Attempting uninstall: tensorflow-estimator\n",
      "    Found existing installation: tensorflow-estimator 2.10.0\n",
      "    Uninstalling tensorflow-estimator-2.10.0:\n",
      "      Successfully uninstalled tensorflow-estimator-2.10.0\n",
      "  Attempting uninstall: tensorboard-data-server\n",
      "    Found existing installation: tensorboard-data-server 0.6.1\n",
      "    Uninstalling tensorboard-data-server-0.6.1:\n",
      "      Successfully uninstalled tensorboard-data-server-0.6.1\n",
      "  Attempting uninstall: protobuf\n",
      "    Found existing installation: protobuf 3.19.6\n",
      "    Uninstalling protobuf-3.19.6:\n",
      "      Successfully uninstalled protobuf-3.19.6\n",
      "  Attempting uninstall: keras\n",
      "    Found existing installation: keras 2.10.0\n",
      "    Uninstalling keras-2.10.0:\n",
      "      Successfully uninstalled keras-2.10.0\n",
      "  Attempting uninstall: google-auth-oauthlib\n",
      "    Found existing installation: google-auth-oauthlib 0.4.6\n",
      "    Uninstalling google-auth-oauthlib-0.4.6:\n",
      "      Successfully uninstalled google-auth-oauthlib-0.4.6\n",
      "  Attempting uninstall: tensorboard\n",
      "    Found existing installation: tensorboard 2.10.1\n",
      "    Uninstalling tensorboard-2.10.1:\n",
      "      Successfully uninstalled tensorboard-2.10.1\n",
      "Successfully installed google-auth-oauthlib-1.0.0 keras-2.12.0 numpy-1.23.5 protobuf-4.25.3 tensorboard-2.12.3 tensorboard-data-server-0.7.2 tensorflow-2.10.1 tensorflow-estimator-2.12.0\n"
     ]
    },
    {
     "name": "stderr",
     "output_type": "stream",
     "text": [
      "WARNING: Ignoring invalid distribution -ensorflow (c:\\users\\willa\\documents\\github\\dnn_nlp_tweets\\.venv\\lib\\site-packages)\n",
      "WARNING: Ignoring invalid distribution -umpy (c:\\users\\willa\\documents\\github\\dnn_nlp_tweets\\.venv\\lib\\site-packages)\n",
      "  WARNING: Retrying (Retry(total=4, connect=None, read=None, redirect=None, status=None)) after connection broken by 'ProtocolError('Connection aborted.', ConnectionResetError(10054, 'An existing connection was forcibly closed by the remote host', None, 10054, None))': /packages/cd/28/d60804f272dfe07c7e5334899abb6af61f6c7f3f7e68c1faf96780988b50/tensorflow-2.12.0-cp310-cp310-win_amd64.whl.metadata\n",
      "WARNING: Ignoring invalid distribution -ensorflow (c:\\users\\willa\\documents\\github\\dnn_nlp_tweets\\.venv\\lib\\site-packages)\n",
      "WARNING: Ignoring invalid distribution -umpy (c:\\users\\willa\\documents\\github\\dnn_nlp_tweets\\.venv\\lib\\site-packages)\n",
      "ERROR: pip's dependency resolver does not currently take into account all the packages that are installed. This behaviour is the source of the following dependency conflicts.\n",
      "tensorflow-text 2.10.0 requires tensorflow<2.11,>=2.10.0; platform_machine != \"arm64\" or platform_system != \"Darwin\", but you have tensorflow 2.12.0 which is incompatible.\n"
     ]
    },
    {
     "name": "stdout",
     "output_type": "stream",
     "text": [
      "Looking in indexes: https://pypi.org/simple, https://pypi.ngc.nvidia.com\n",
      "Collecting keras-core==0.1.3\n",
      "  Downloading keras_core-0.1.3-py3-none-any.whl.metadata (4.0 kB)\n",
      "Requirement already satisfied: absl-py in c:\\users\\willa\\documents\\github\\dnn_nlp_tweets\\.venv\\lib\\site-packages (from keras-core==0.1.3) (2.1.0)\n",
      "Requirement already satisfied: numpy in c:\\users\\willa\\documents\\github\\dnn_nlp_tweets\\.venv\\lib\\site-packages (from keras-core==0.1.3) (1.23.5)\n",
      "Requirement already satisfied: rich in c:\\users\\willa\\documents\\github\\dnn_nlp_tweets\\.venv\\lib\\site-packages (from keras-core==0.1.3) (13.7.1)\n",
      "Requirement already satisfied: namex in c:\\users\\willa\\documents\\github\\dnn_nlp_tweets\\.venv\\lib\\site-packages (from keras-core==0.1.3) (0.0.8)\n",
      "Requirement already satisfied: h5py in c:\\users\\willa\\documents\\github\\dnn_nlp_tweets\\.venv\\lib\\site-packages (from keras-core==0.1.3) (3.11.0)\n",
      "Requirement already satisfied: dm-tree in c:\\users\\willa\\documents\\github\\dnn_nlp_tweets\\.venv\\lib\\site-packages (from keras-core==0.1.3) (0.1.8)\n",
      "Requirement already satisfied: markdown-it-py>=2.2.0 in c:\\users\\willa\\documents\\github\\dnn_nlp_tweets\\.venv\\lib\\site-packages (from rich->keras-core==0.1.3) (3.0.0)\n",
      "Requirement already satisfied: pygments<3.0.0,>=2.13.0 in c:\\users\\willa\\documents\\github\\dnn_nlp_tweets\\.venv\\lib\\site-packages (from rich->keras-core==0.1.3) (2.17.2)\n",
      "Requirement already satisfied: mdurl~=0.1 in c:\\users\\willa\\documents\\github\\dnn_nlp_tweets\\.venv\\lib\\site-packages (from markdown-it-py>=2.2.0->rich->keras-core==0.1.3) (0.1.2)\n",
      "Downloading keras_core-0.1.3-py3-none-any.whl (851 kB)\n",
      "   ---------------------------------------- 0.0/851.9 kB ? eta -:--:--\n",
      "   - -------------------------------------- 41.0/851.9 kB ? eta -:--:--\n",
      "   ----- ---------------------------------- 112.6/851.9 kB 3.2 MB/s eta 0:00:01\n",
      "   --------- ------------------------------ 204.8/851.9 kB 2.5 MB/s eta 0:00:01\n",
      "   -------------- ------------------------- 307.2/851.9 kB 2.1 MB/s eta 0:00:01\n",
      "   ---------------- ----------------------- 358.4/851.9 kB 1.9 MB/s eta 0:00:01\n",
      "   --------------------- ------------------ 450.6/851.9 kB 2.0 MB/s eta 0:00:01\n",
      "   ------------------------- -------------- 553.0/851.9 kB 1.9 MB/s eta 0:00:01\n",
      "   ------------------------------ --------- 645.1/851.9 kB 2.0 MB/s eta 0:00:01\n",
      "   ----------------------------------- ---- 747.5/851.9 kB 2.0 MB/s eta 0:00:01\n",
      "   ---------------------------------------- 851.9/851.9 kB 2.1 MB/s eta 0:00:00\n",
      "Installing collected packages: keras-core\n",
      "  Attempting uninstall: keras-core\n",
      "    Found existing installation: keras-core 0.1.7\n",
      "    Uninstalling keras-core-0.1.7:\n",
      "      Successfully uninstalled keras-core-0.1.7\n",
      "Successfully installed keras-core-0.1.3\n"
     ]
    },
    {
     "name": "stderr",
     "output_type": "stream",
     "text": [
      "WARNING: Ignoring invalid distribution -umpy (c:\\users\\willa\\documents\\github\\dnn_nlp_tweets\\.venv\\lib\\site-packages)\n",
      "WARNING: Ignoring invalid distribution -umpy (c:\\users\\willa\\documents\\github\\dnn_nlp_tweets\\.venv\\lib\\site-packages)\n",
      "WARNING: Ignoring invalid distribution -umpy (c:\\users\\willa\\documents\\github\\dnn_nlp_tweets\\.venv\\lib\\site-packages)\n",
      "WARNING: Ignoring invalid distribution -umpy (c:\\users\\willa\\documents\\github\\dnn_nlp_tweets\\.venv\\lib\\site-packages)\n",
      "ERROR: pip's dependency resolver does not currently take into account all the packages that are installed. This behaviour is the source of the following dependency conflicts.\n",
      "tensorflow-intel 2.12.0 requires keras<2.13,>=2.12.0, but you have keras 2.10.0 which is incompatible.\n",
      "tensorflow-intel 2.12.0 requires protobuf!=4.21.0,!=4.21.1,!=4.21.2,!=4.21.3,!=4.21.4,!=4.21.5,<5.0.0dev,>=3.20.3, but you have protobuf 3.19.6 which is incompatible.\n",
      "tensorflow-intel 2.12.0 requires tensorboard<2.13,>=2.12, but you have tensorboard 2.10.1 which is incompatible.\n",
      "tensorflow-intel 2.12.0 requires tensorflow-estimator<2.13,>=2.12.0, but you have tensorflow-estimator 2.10.0 which is incompatible.\n"
     ]
    },
    {
     "name": "stdout",
     "output_type": "stream",
     "text": [
      "Looking in indexes: https://pypi.org/simple, https://pypi.ngc.nvidia.com\n",
      "Requirement already satisfied: joblib in c:\\users\\willa\\documents\\github\\dnn_nlp_tweets\\.venv\\lib\\site-packages (1.4.0)\n"
     ]
    },
    {
     "name": "stderr",
     "output_type": "stream",
     "text": [
      "WARNING: Ignoring invalid distribution -umpy (c:\\users\\willa\\documents\\github\\dnn_nlp_tweets\\.venv\\lib\\site-packages)\n",
      "WARNING: Ignoring invalid distribution -umpy (c:\\users\\willa\\documents\\github\\dnn_nlp_tweets\\.venv\\lib\\site-packages)\n"
     ]
    },
    {
     "name": "stdout",
     "output_type": "stream",
     "text": [
      "Looking in indexes: https://pypi.org/simple, https://pypi.ngc.nvidia.com\n",
      "Requirement already satisfied: numpy in c:\\users\\willa\\documents\\github\\dnn_nlp_tweets\\.venv\\lib\\site-packages (1.23.5)\n",
      "Collecting numpy\n",
      "  Downloading numpy-1.26.4-cp310-cp310-win_amd64.whl.metadata (61 kB)\n",
      "     ---------------------------------------- 0.0/61.0 kB ? eta -:--:--\n",
      "     ---------------------------------------- 61.0/61.0 kB 1.6 MB/s eta 0:00:00\n",
      "Downloading numpy-1.26.4-cp310-cp310-win_amd64.whl (15.8 MB)\n",
      "   ---------------------------------------- 0.0/15.8 MB ? eta -:--:--\n",
      "   ---------------------------------------- 0.1/15.8 MB 2.2 MB/s eta 0:00:08\n",
      "   ---------------------------------------- 0.2/15.8 MB 1.9 MB/s eta 0:00:09\n",
      "    --------------------------------------- 0.2/15.8 MB 1.7 MB/s eta 0:00:10\n",
      "    --------------------------------------- 0.3/15.8 MB 1.4 MB/s eta 0:00:11\n",
      "    --------------------------------------- 0.3/15.8 MB 1.5 MB/s eta 0:00:11\n",
      "    --------------------------------------- 0.3/15.8 MB 1.3 MB/s eta 0:00:13\n",
      "    --------------------------------------- 0.4/15.8 MB 1.3 MB/s eta 0:00:13\n",
      "   - -------------------------------------- 0.4/15.8 MB 1.3 MB/s eta 0:00:13\n",
      "   - -------------------------------------- 0.5/15.8 MB 1.3 MB/s eta 0:00:12\n",
      "   - -------------------------------------- 0.6/15.8 MB 1.4 MB/s eta 0:00:12\n",
      "   - -------------------------------------- 0.7/15.8 MB 1.4 MB/s eta 0:00:11\n",
      "   - -------------------------------------- 0.7/15.8 MB 1.5 MB/s eta 0:00:11\n",
      "   -- ------------------------------------- 0.9/15.8 MB 1.5 MB/s eta 0:00:10\n",
      "   -- ------------------------------------- 1.0/15.8 MB 1.6 MB/s eta 0:00:10\n",
      "   -- ------------------------------------- 1.1/15.8 MB 1.7 MB/s eta 0:00:09\n",
      "   --- ------------------------------------ 1.2/15.8 MB 1.7 MB/s eta 0:00:09\n",
      "   --- ------------------------------------ 1.3/15.8 MB 1.8 MB/s eta 0:00:09\n",
      "   --- ------------------------------------ 1.4/15.8 MB 1.8 MB/s eta 0:00:09\n",
      "   --- ------------------------------------ 1.4/15.8 MB 1.7 MB/s eta 0:00:09\n",
      "   --- ------------------------------------ 1.5/15.8 MB 1.7 MB/s eta 0:00:09\n",
      "   ---- ----------------------------------- 1.6/15.8 MB 1.8 MB/s eta 0:00:08\n",
      "   ---- ----------------------------------- 1.8/15.8 MB 1.8 MB/s eta 0:00:08\n",
      "   ---- ----------------------------------- 1.9/15.8 MB 1.9 MB/s eta 0:00:08\n",
      "   ----- ---------------------------------- 2.1/15.8 MB 2.0 MB/s eta 0:00:07\n",
      "   ----- ---------------------------------- 2.2/15.8 MB 2.0 MB/s eta 0:00:07\n",
      "   ------ --------------------------------- 2.4/15.8 MB 2.1 MB/s eta 0:00:07\n",
      "   ------ --------------------------------- 2.5/15.8 MB 2.1 MB/s eta 0:00:07\n",
      "   ------ --------------------------------- 2.7/15.8 MB 2.2 MB/s eta 0:00:07\n",
      "   ------- -------------------------------- 2.8/15.8 MB 2.2 MB/s eta 0:00:06\n",
      "   ------- -------------------------------- 3.0/15.8 MB 2.2 MB/s eta 0:00:06\n",
      "   ------- -------------------------------- 3.1/15.8 MB 2.3 MB/s eta 0:00:06\n",
      "   -------- ------------------------------- 3.3/15.8 MB 2.3 MB/s eta 0:00:06\n",
      "   -------- ------------------------------- 3.5/15.8 MB 2.4 MB/s eta 0:00:06\n",
      "   --------- ------------------------------ 3.6/15.8 MB 2.4 MB/s eta 0:00:06\n",
      "   --------- ------------------------------ 3.7/15.8 MB 2.4 MB/s eta 0:00:05\n",
      "   --------- ------------------------------ 3.9/15.8 MB 2.5 MB/s eta 0:00:05\n",
      "   ---------- ----------------------------- 4.0/15.8 MB 2.5 MB/s eta 0:00:05\n",
      "   ---------- ----------------------------- 4.2/15.8 MB 2.5 MB/s eta 0:00:05\n",
      "   ---------- ----------------------------- 4.2/15.8 MB 2.5 MB/s eta 0:00:05\n",
      "   ----------- ---------------------------- 4.4/15.8 MB 2.5 MB/s eta 0:00:05\n",
      "   ----------- ---------------------------- 4.6/15.8 MB 2.6 MB/s eta 0:00:05\n",
      "   ------------ --------------------------- 4.8/15.8 MB 2.6 MB/s eta 0:00:05\n",
      "   ------------ --------------------------- 5.1/15.8 MB 2.7 MB/s eta 0:00:04\n",
      "   ------------- -------------------------- 5.3/15.8 MB 2.8 MB/s eta 0:00:04\n",
      "   ------------- -------------------------- 5.5/15.8 MB 2.8 MB/s eta 0:00:04\n",
      "   -------------- ------------------------- 5.7/15.8 MB 2.8 MB/s eta 0:00:04\n",
      "   -------------- ------------------------- 5.8/15.8 MB 2.9 MB/s eta 0:00:04\n",
      "   --------------- ------------------------ 6.0/15.8 MB 2.9 MB/s eta 0:00:04\n",
      "   --------------- ------------------------ 6.1/15.8 MB 2.9 MB/s eta 0:00:04\n",
      "   ---------------- ----------------------- 6.3/15.8 MB 2.9 MB/s eta 0:00:04\n",
      "   ---------------- ----------------------- 6.5/15.8 MB 2.9 MB/s eta 0:00:04\n",
      "   ---------------- ----------------------- 6.5/15.8 MB 2.9 MB/s eta 0:00:04\n",
      "   ---------------- ----------------------- 6.7/15.8 MB 2.9 MB/s eta 0:00:04\n",
      "   ---------------- ----------------------- 6.7/15.8 MB 2.9 MB/s eta 0:00:04\n",
      "   ----------------- ---------------------- 6.8/15.8 MB 2.9 MB/s eta 0:00:04\n",
      "   ----------------- ---------------------- 6.9/15.8 MB 2.9 MB/s eta 0:00:04\n",
      "   ------------------ --------------------- 7.1/15.8 MB 2.9 MB/s eta 0:00:04\n",
      "   ------------------ --------------------- 7.2/15.8 MB 2.9 MB/s eta 0:00:03\n",
      "   ------------------ --------------------- 7.5/15.8 MB 2.9 MB/s eta 0:00:03\n",
      "   ------------------- -------------------- 7.6/15.8 MB 2.9 MB/s eta 0:00:03\n",
      "   ------------------- -------------------- 7.7/15.8 MB 2.9 MB/s eta 0:00:03\n",
      "   -------------------- ------------------- 7.9/15.8 MB 3.0 MB/s eta 0:00:03\n",
      "   -------------------- ------------------- 8.1/15.8 MB 3.0 MB/s eta 0:00:03\n",
      "   -------------------- ------------------- 8.2/15.8 MB 3.0 MB/s eta 0:00:03\n",
      "   --------------------- ------------------ 8.4/15.8 MB 3.0 MB/s eta 0:00:03\n",
      "   --------------------- ------------------ 8.7/15.8 MB 3.1 MB/s eta 0:00:03\n",
      "   ---------------------- ----------------- 8.9/15.8 MB 3.1 MB/s eta 0:00:03\n",
      "   ----------------------- ---------------- 9.1/15.8 MB 3.1 MB/s eta 0:00:03\n",
      "   ----------------------- ---------------- 9.3/15.8 MB 3.1 MB/s eta 0:00:03\n",
      "   ------------------------ --------------- 9.5/15.8 MB 3.2 MB/s eta 0:00:02\n",
      "   ------------------------ --------------- 9.7/15.8 MB 3.2 MB/s eta 0:00:02\n",
      "   ------------------------- -------------- 10.0/15.8 MB 3.2 MB/s eta 0:00:02\n",
      "   ------------------------- -------------- 10.2/15.8 MB 3.3 MB/s eta 0:00:02\n",
      "   -------------------------- ------------- 10.5/15.8 MB 3.4 MB/s eta 0:00:02\n",
      "   -------------------------- ------------- 10.6/15.8 MB 3.6 MB/s eta 0:00:02\n",
      "   --------------------------- ------------ 10.8/15.8 MB 3.6 MB/s eta 0:00:02\n",
      "   --------------------------- ------------ 11.0/15.8 MB 3.7 MB/s eta 0:00:02\n",
      "   ---------------------------- ----------- 11.3/15.8 MB 3.8 MB/s eta 0:00:02\n",
      "   ----------------------------- ---------- 11.6/15.8 MB 3.9 MB/s eta 0:00:02\n",
      "   ------------------------------ --------- 11.9/15.8 MB 4.1 MB/s eta 0:00:01\n",
      "   ------------------------------ --------- 12.2/15.8 MB 4.2 MB/s eta 0:00:01\n",
      "   ------------------------------- -------- 12.5/15.8 MB 4.3 MB/s eta 0:00:01\n",
      "   -------------------------------- ------- 12.7/15.8 MB 4.3 MB/s eta 0:00:01\n",
      "   -------------------------------- ------- 12.9/15.8 MB 4.3 MB/s eta 0:00:01\n",
      "   -------------------------------- ------- 13.0/15.8 MB 4.3 MB/s eta 0:00:01\n",
      "   --------------------------------- ------ 13.3/15.8 MB 4.4 MB/s eta 0:00:01\n",
      "   ---------------------------------- ----- 13.5/15.8 MB 4.5 MB/s eta 0:00:01\n",
      "   ---------------------------------- ----- 13.7/15.8 MB 4.4 MB/s eta 0:00:01\n",
      "   ----------------------------------- ---- 14.0/15.8 MB 4.5 MB/s eta 0:00:01\n",
      "   ----------------------------------- ---- 14.2/15.8 MB 4.5 MB/s eta 0:00:01\n",
      "   ------------------------------------ --- 14.4/15.8 MB 4.6 MB/s eta 0:00:01\n",
      "   ------------------------------------- -- 14.7/15.8 MB 4.7 MB/s eta 0:00:01\n",
      "   -------------------------------------- - 15.0/15.8 MB 4.7 MB/s eta 0:00:01\n",
      "   -------------------------------------- - 15.3/15.8 MB 4.7 MB/s eta 0:00:01\n",
      "   ---------------------------------------  15.6/15.8 MB 4.7 MB/s eta 0:00:01\n",
      "   ---------------------------------------- 15.8/15.8 MB 4.8 MB/s eta 0:00:00\n",
      "Installing collected packages: numpy\n",
      "  Attempting uninstall: numpy\n",
      "    Found existing installation: numpy 1.23.5\n",
      "    Uninstalling numpy-1.23.5:\n",
      "      Successfully uninstalled numpy-1.23.5\n",
      "Successfully installed numpy-1.26.4\n"
     ]
    },
    {
     "name": "stderr",
     "output_type": "stream",
     "text": [
      "WARNING: Ignoring invalid distribution -umpy (c:\\users\\willa\\documents\\github\\dnn_nlp_tweets\\.venv\\lib\\site-packages)\n",
      "WARNING: Ignoring invalid distribution -umpy (c:\\users\\willa\\documents\\github\\dnn_nlp_tweets\\.venv\\lib\\site-packages)\n",
      "ERROR: pip's dependency resolver does not currently take into account all the packages that are installed. This behaviour is the source of the following dependency conflicts.\n",
      "tensorflow-intel 2.12.0 requires keras<2.13,>=2.12.0, but you have keras 2.10.0 which is incompatible.\n",
      "tensorflow-intel 2.12.0 requires numpy<1.24,>=1.22, but you have numpy 1.26.4 which is incompatible.\n",
      "tensorflow-intel 2.12.0 requires protobuf!=4.21.0,!=4.21.1,!=4.21.2,!=4.21.3,!=4.21.4,!=4.21.5,<5.0.0dev,>=3.20.3, but you have protobuf 3.19.6 which is incompatible.\n",
      "tensorflow-intel 2.12.0 requires tensorboard<2.13,>=2.12, but you have tensorboard 2.10.1 which is incompatible.\n",
      "tensorflow-intel 2.12.0 requires tensorflow-estimator<2.13,>=2.12.0, but you have tensorflow-estimator 2.10.0 which is incompatible.\n"
     ]
    },
    {
     "name": "stdout",
     "output_type": "stream",
     "text": [
      "Looking in indexes: https://pypi.org/simple, https://pypi.ngc.nvidia.com\n",
      "Requirement already satisfied: pandas in c:\\users\\willa\\documents\\github\\dnn_nlp_tweets\\.venv\\lib\\site-packages (2.2.2)\n",
      "Requirement already satisfied: numpy>=1.22.4 in c:\\users\\willa\\documents\\github\\dnn_nlp_tweets\\.venv\\lib\\site-packages (from pandas) (1.26.4)\n",
      "Requirement already satisfied: python-dateutil>=2.8.2 in c:\\users\\willa\\documents\\github\\dnn_nlp_tweets\\.venv\\lib\\site-packages (from pandas) (2.9.0.post0)\n",
      "Requirement already satisfied: pytz>=2020.1 in c:\\users\\willa\\documents\\github\\dnn_nlp_tweets\\.venv\\lib\\site-packages (from pandas) (2024.1)\n",
      "Requirement already satisfied: tzdata>=2022.7 in c:\\users\\willa\\documents\\github\\dnn_nlp_tweets\\.venv\\lib\\site-packages (from pandas) (2024.1)\n",
      "Requirement already satisfied: six>=1.5 in c:\\users\\willa\\documents\\github\\dnn_nlp_tweets\\.venv\\lib\\site-packages (from python-dateutil>=2.8.2->pandas) (1.16.0)\n"
     ]
    },
    {
     "name": "stderr",
     "output_type": "stream",
     "text": [
      "WARNING: Ignoring invalid distribution -umpy (c:\\users\\willa\\documents\\github\\dnn_nlp_tweets\\.venv\\lib\\site-packages)\n",
      "WARNING: Ignoring invalid distribution -umpy (c:\\users\\willa\\documents\\github\\dnn_nlp_tweets\\.venv\\lib\\site-packages)\n"
     ]
    },
    {
     "name": "stdout",
     "output_type": "stream",
     "text": [
      "Looking in indexes: https://pypi.org/simple, https://pypi.ngc.nvidia.com\n",
      "Requirement already satisfied: scikit-learn in c:\\users\\willa\\documents\\github\\dnn_nlp_tweets\\.venv\\lib\\site-packages (1.4.2)\n",
      "Requirement already satisfied: numpy>=1.19.5 in c:\\users\\willa\\documents\\github\\dnn_nlp_tweets\\.venv\\lib\\site-packages (from scikit-learn) (1.26.4)\n",
      "Requirement already satisfied: scipy>=1.6.0 in c:\\users\\willa\\documents\\github\\dnn_nlp_tweets\\.venv\\lib\\site-packages (from scikit-learn) (1.13.0)\n",
      "Requirement already satisfied: joblib>=1.2.0 in c:\\users\\willa\\documents\\github\\dnn_nlp_tweets\\.venv\\lib\\site-packages (from scikit-learn) (1.4.0)\n",
      "Requirement already satisfied: threadpoolctl>=2.0.0 in c:\\users\\willa\\documents\\github\\dnn_nlp_tweets\\.venv\\lib\\site-packages (from scikit-learn) (3.5.0)\n"
     ]
    },
    {
     "name": "stderr",
     "output_type": "stream",
     "text": [
      "WARNING: Ignoring invalid distribution -umpy (c:\\users\\willa\\documents\\github\\dnn_nlp_tweets\\.venv\\lib\\site-packages)\n",
      "WARNING: Ignoring invalid distribution -umpy (c:\\users\\willa\\documents\\github\\dnn_nlp_tweets\\.venv\\lib\\site-packages)\n"
     ]
    },
    {
     "name": "stdout",
     "output_type": "stream",
     "text": [
      "Looking in indexes: https://pypi.org/simple, https://pypi.ngc.nvidia.com\n",
      "Requirement already satisfied: kaggle in c:\\users\\willa\\documents\\github\\dnn_nlp_tweets\\.venv\\lib\\site-packages (1.6.12)\n",
      "Requirement already satisfied: six>=1.10 in c:\\users\\willa\\documents\\github\\dnn_nlp_tweets\\.venv\\lib\\site-packages (from kaggle) (1.16.0)\n",
      "Requirement already satisfied: certifi>=2023.7.22 in c:\\users\\willa\\documents\\github\\dnn_nlp_tweets\\.venv\\lib\\site-packages (from kaggle) (2024.2.2)\n",
      "Requirement already satisfied: python-dateutil in c:\\users\\willa\\documents\\github\\dnn_nlp_tweets\\.venv\\lib\\site-packages (from kaggle) (2.9.0.post0)\n",
      "Requirement already satisfied: requests in c:\\users\\willa\\documents\\github\\dnn_nlp_tweets\\.venv\\lib\\site-packages (from kaggle) (2.31.0)\n",
      "Requirement already satisfied: tqdm in c:\\users\\willa\\documents\\github\\dnn_nlp_tweets\\.venv\\lib\\site-packages (from kaggle) (4.66.2)\n",
      "Requirement already satisfied: python-slugify in c:\\users\\willa\\documents\\github\\dnn_nlp_tweets\\.venv\\lib\\site-packages (from kaggle) (8.0.4)\n",
      "Requirement already satisfied: urllib3 in c:\\users\\willa\\documents\\github\\dnn_nlp_tweets\\.venv\\lib\\site-packages (from kaggle) (2.2.1)\n",
      "Requirement already satisfied: bleach in c:\\users\\willa\\documents\\github\\dnn_nlp_tweets\\.venv\\lib\\site-packages (from kaggle) (6.1.0)\n",
      "Requirement already satisfied: webencodings in c:\\users\\willa\\documents\\github\\dnn_nlp_tweets\\.venv\\lib\\site-packages (from bleach->kaggle) (0.5.1)\n",
      "Requirement already satisfied: text-unidecode>=1.3 in c:\\users\\willa\\documents\\github\\dnn_nlp_tweets\\.venv\\lib\\site-packages (from python-slugify->kaggle) (1.3)\n",
      "Requirement already satisfied: charset-normalizer<4,>=2 in c:\\users\\willa\\documents\\github\\dnn_nlp_tweets\\.venv\\lib\\site-packages (from requests->kaggle) (3.3.2)\n",
      "Requirement already satisfied: idna<4,>=2.5 in c:\\users\\willa\\documents\\github\\dnn_nlp_tweets\\.venv\\lib\\site-packages (from requests->kaggle) (3.7)\n",
      "Requirement already satisfied: colorama in c:\\users\\willa\\documents\\github\\dnn_nlp_tweets\\.venv\\lib\\site-packages (from tqdm->kaggle) (0.4.6)\n"
     ]
    },
    {
     "name": "stderr",
     "output_type": "stream",
     "text": [
      "WARNING: Ignoring invalid distribution -umpy (c:\\users\\willa\\documents\\github\\dnn_nlp_tweets\\.venv\\lib\\site-packages)\n",
      "WARNING: Ignoring invalid distribution -umpy (c:\\users\\willa\\documents\\github\\dnn_nlp_tweets\\.venv\\lib\\site-packages)\n"
     ]
    },
    {
     "name": "stdout",
     "output_type": "stream",
     "text": [
      "Looking in indexes: https://pypi.org/simple, https://pypi.ngc.nvidia.com\n",
      "Requirement already satisfied: seaborn in c:\\users\\willa\\documents\\github\\dnn_nlp_tweets\\.venv\\lib\\site-packages (0.13.2)\n",
      "Requirement already satisfied: numpy!=1.24.0,>=1.20 in c:\\users\\willa\\documents\\github\\dnn_nlp_tweets\\.venv\\lib\\site-packages (from seaborn) (1.26.4)\n",
      "Requirement already satisfied: pandas>=1.2 in c:\\users\\willa\\documents\\github\\dnn_nlp_tweets\\.venv\\lib\\site-packages (from seaborn) (2.2.2)\n",
      "Requirement already satisfied: matplotlib!=3.6.1,>=3.4 in c:\\users\\willa\\documents\\github\\dnn_nlp_tweets\\.venv\\lib\\site-packages (from seaborn) (3.8.4)\n",
      "Requirement already satisfied: contourpy>=1.0.1 in c:\\users\\willa\\documents\\github\\dnn_nlp_tweets\\.venv\\lib\\site-packages (from matplotlib!=3.6.1,>=3.4->seaborn) (1.2.1)\n",
      "Requirement already satisfied: cycler>=0.10 in c:\\users\\willa\\documents\\github\\dnn_nlp_tweets\\.venv\\lib\\site-packages (from matplotlib!=3.6.1,>=3.4->seaborn) (0.12.1)\n",
      "Requirement already satisfied: fonttools>=4.22.0 in c:\\users\\willa\\documents\\github\\dnn_nlp_tweets\\.venv\\lib\\site-packages (from matplotlib!=3.6.1,>=3.4->seaborn) (4.51.0)\n",
      "Requirement already satisfied: kiwisolver>=1.3.1 in c:\\users\\willa\\documents\\github\\dnn_nlp_tweets\\.venv\\lib\\site-packages (from matplotlib!=3.6.1,>=3.4->seaborn) (1.4.5)\n",
      "Requirement already satisfied: packaging>=20.0 in c:\\users\\willa\\documents\\github\\dnn_nlp_tweets\\.venv\\lib\\site-packages (from matplotlib!=3.6.1,>=3.4->seaborn) (24.0)\n",
      "Requirement already satisfied: pillow>=8 in c:\\users\\willa\\documents\\github\\dnn_nlp_tweets\\.venv\\lib\\site-packages (from matplotlib!=3.6.1,>=3.4->seaborn) (10.3.0)\n",
      "Requirement already satisfied: pyparsing>=2.3.1 in c:\\users\\willa\\documents\\github\\dnn_nlp_tweets\\.venv\\lib\\site-packages (from matplotlib!=3.6.1,>=3.4->seaborn) (3.1.2)\n",
      "Requirement already satisfied: python-dateutil>=2.7 in c:\\users\\willa\\documents\\github\\dnn_nlp_tweets\\.venv\\lib\\site-packages (from matplotlib!=3.6.1,>=3.4->seaborn) (2.9.0.post0)\n",
      "Requirement already satisfied: pytz>=2020.1 in c:\\users\\willa\\documents\\github\\dnn_nlp_tweets\\.venv\\lib\\site-packages (from pandas>=1.2->seaborn) (2024.1)\n",
      "Requirement already satisfied: tzdata>=2022.7 in c:\\users\\willa\\documents\\github\\dnn_nlp_tweets\\.venv\\lib\\site-packages (from pandas>=1.2->seaborn) (2024.1)\n",
      "Requirement already satisfied: six>=1.5 in c:\\users\\willa\\documents\\github\\dnn_nlp_tweets\\.venv\\lib\\site-packages (from python-dateutil>=2.7->matplotlib!=3.6.1,>=3.4->seaborn) (1.16.0)\n"
     ]
    },
    {
     "name": "stderr",
     "output_type": "stream",
     "text": [
      "WARNING: Ignoring invalid distribution -umpy (c:\\users\\willa\\documents\\github\\dnn_nlp_tweets\\.venv\\lib\\site-packages)\n",
      "WARNING: Ignoring invalid distribution -umpy (c:\\users\\willa\\documents\\github\\dnn_nlp_tweets\\.venv\\lib\\site-packages)\n"
     ]
    },
    {
     "name": "stdout",
     "output_type": "stream",
     "text": [
      "Looking in indexes: https://pypi.org/simple, https://pypi.ngc.nvidia.com\n",
      "Requirement already satisfied: matplotlib in c:\\users\\willa\\documents\\github\\dnn_nlp_tweets\\.venv\\lib\\site-packages (3.8.4)\n",
      "Requirement already satisfied: contourpy>=1.0.1 in c:\\users\\willa\\documents\\github\\dnn_nlp_tweets\\.venv\\lib\\site-packages (from matplotlib) (1.2.1)\n",
      "Requirement already satisfied: cycler>=0.10 in c:\\users\\willa\\documents\\github\\dnn_nlp_tweets\\.venv\\lib\\site-packages (from matplotlib) (0.12.1)\n",
      "Requirement already satisfied: fonttools>=4.22.0 in c:\\users\\willa\\documents\\github\\dnn_nlp_tweets\\.venv\\lib\\site-packages (from matplotlib) (4.51.0)\n",
      "Requirement already satisfied: kiwisolver>=1.3.1 in c:\\users\\willa\\documents\\github\\dnn_nlp_tweets\\.venv\\lib\\site-packages (from matplotlib) (1.4.5)\n",
      "Requirement already satisfied: numpy>=1.21 in c:\\users\\willa\\documents\\github\\dnn_nlp_tweets\\.venv\\lib\\site-packages (from matplotlib) (1.26.4)\n",
      "Requirement already satisfied: packaging>=20.0 in c:\\users\\willa\\documents\\github\\dnn_nlp_tweets\\.venv\\lib\\site-packages (from matplotlib) (24.0)\n",
      "Requirement already satisfied: pillow>=8 in c:\\users\\willa\\documents\\github\\dnn_nlp_tweets\\.venv\\lib\\site-packages (from matplotlib) (10.3.0)\n",
      "Requirement already satisfied: pyparsing>=2.3.1 in c:\\users\\willa\\documents\\github\\dnn_nlp_tweets\\.venv\\lib\\site-packages (from matplotlib) (3.1.2)\n",
      "Requirement already satisfied: python-dateutil>=2.7 in c:\\users\\willa\\documents\\github\\dnn_nlp_tweets\\.venv\\lib\\site-packages (from matplotlib) (2.9.0.post0)\n",
      "Requirement already satisfied: six>=1.5 in c:\\users\\willa\\documents\\github\\dnn_nlp_tweets\\.venv\\lib\\site-packages (from python-dateutil>=2.7->matplotlib) (1.16.0)\n"
     ]
    },
    {
     "name": "stderr",
     "output_type": "stream",
     "text": [
      "WARNING: Ignoring invalid distribution -umpy (c:\\users\\willa\\documents\\github\\dnn_nlp_tweets\\.venv\\lib\\site-packages)\n",
      "WARNING: Ignoring invalid distribution -umpy (c:\\users\\willa\\documents\\github\\dnn_nlp_tweets\\.venv\\lib\\site-packages)\n"
     ]
    }
   ],
   "source": [
    "!pip install tensorflow==2.12.0\n",
    "!pip install keras-core==0.1.3\n",
    "!pip install -q keras-nlp==0.6.1\n",
    "!pip install joblib --upgrade\n",
    "!pip install numpy --upgrade\n",
    "!pip install pandas --upgrade\n",
    "!pip install scikit-learn --upgrade\n",
    "!pip install kaggle\n",
    "!pip install seaborn\n",
    "!pip install matplotlib"
   ]
  },
  {
   "cell_type": "code",
   "execution_count": 5,
   "metadata": {},
   "outputs": [
    {
     "name": "stdout",
     "output_type": "stream",
     "text": [
      "Using TensorFlow backend\n"
     ]
    }
   ],
   "source": [
    "# file manipulation libraries\n",
    "import os\n",
    "import kaggle\n",
    "from joblib import dump, load\n",
    "\n",
    "# data handling libraries\n",
    "import numpy as np\n",
    "import pandas as pd\n",
    "\n",
    "# model training and validation\n",
    "from sklearn.model_selection import train_test_split, GridSearchCV, cross_val_score, KFold\n",
    "\n",
    "# models\n",
    "from sklearn.linear_model import LogisticRegressionCV\n",
    "import tensorflow as tf\n",
    "import keras_core as keras\n",
    "import keras_nlp\n",
    "\n",
    "# pre-processing\n",
    "from sklearn.feature_extraction.text import TfidfVectorizer\n",
    "\n",
    "# metrics\n",
    "from sklearn.metrics import precision_score, recall_score, f1_score\n",
    "from sklearn.metrics import precision_recall_curve, classification_report, confusion_matrix, ConfusionMatrixDisplay\n",
    "\n",
    "# plotting\n",
    "import seaborn as sns\n",
    "from matplotlib.colors import Normalize\n",
    "import matplotlib.pyplot as plt\n",
    "from matplotlib import patches\n",
    "from matplotlib.colors import ListedColormap\n",
    "import matplotlib.patheffects as pe\n",
    "%matplotlib inline"
   ]
  },
  {
   "cell_type": "markdown",
   "metadata": {},
   "source": [
    "## Custom utilities"
   ]
  },
  {
   "cell_type": "code",
   "execution_count": 6,
   "metadata": {},
   "outputs": [],
   "source": [
    "import src.utilities.kaggle_extractor as extract"
   ]
  },
  {
   "cell_type": "markdown",
   "metadata": {},
   "source": [
    "# Datahandler Class"
   ]
  },
  {
   "cell_type": "code",
   "execution_count": 7,
   "metadata": {},
   "outputs": [],
   "source": [
    "import threading\n",
    "\n",
    "class data_handler:\n",
    "    def __init__(self, competition_name, project_path, usr_path=\"./data/\"):\n",
    "        self._lock = threading.Lock()\n",
    "        self.competition_name = competition_name\n",
    "        extract.Kaggle_Competition_Extract(self.competition_name, project_path) # pull data\n",
    "        # initialize train, test\n",
    "        self.train, self.test, self.sample_submission = self.file_to_data(usr_path)\n",
    "        self.X_train = self.train['text']\n",
    "        self.X_test = self.test['text']\n",
    "        self.y_train = self.train['target']\n",
    "        # split train and validate\n",
    "        self._X_train_split, self._X_val_split, self.y_train_split, self.y_val_split = train_test_split(\n",
    "            self.X_train,\n",
    "            self.y_train,\n",
    "            test_size=0.2,\n",
    "            random_state=5\n",
    "        )\n",
    "\n",
    "        # vectorize text\n",
    "        self.vectorizer = TfidfVectorizer(max_features=5000)\n",
    "        self.X_train_split = self.vectorizer.fit_transform(self._X_train_split)\n",
    "        self.X_val_split = self.vectorizer.transform(self._X_val_split)\n",
    "        self.X_test_tf = self.vectorizer.transform(self.X_test)\n",
    "        \n",
    "        # simple classifier (5-fold CV LogReg)\n",
    "        print('\\n Fitting a 5-fold CV LogisticRegression model as the base classifier...')\n",
    "        self.clf = LogisticRegressionCV(cv=5, random_state = 5)\n",
    "        self.__fit_clf()\n",
    "\n",
    "    def file_to_data(self, usr_path):\n",
    "        files = [i for i in os.walk(\"./data\")][0]\n",
    "        for file in files[-1]:\n",
    "            if '.csv' in file.lower():\n",
    "                if 'train' in file.lower(): \n",
    "                    df_train = pd.read_csv(usr_path + file)\n",
    "                elif 'test' in file.lower(): \n",
    "                    df_test = pd.read_csv(usr_path + file)\n",
    "                elif 'sample' in file.lower():\n",
    "                    df_sample = pd.read_csv(usr_path + file)\n",
    "        return df_train, df_test, df_sample\n",
    "    \n",
    "    def pop_clf(self, clf_new):\n",
    "        self.clf_base = self.clf\n",
    "        try:\n",
    "            self.vectorizer_params_base = self.vectorizer_params\n",
    "        except AttributeError:\n",
    "            pass\n",
    "        self.val_score_base = self.val_score\n",
    "        self.clf = clf_new\n",
    "        self.__fit_clf()\n",
    "\n",
    "    def __fit_clf(self):\n",
    "        print('Fitting model...')\n",
    "        self.clf.fit(self.X_train_split, self.y_train_split)\n",
    "        self.val_probabilities = self.clf.predict_proba(self.X_val_split)[:, 1] # grab probabbility of being 1\n",
    "        self.val_predictions = (self.val_probabilities > 0.5).astype(int)\n",
    "        self.val_score = f1_score(self.y_val_split, self.val_predictions)\n",
    "        print(f'\\n Complete! \\n Validation F1 Score: {self.val_score}')\n",
    "        self.probabilities = (self.clf.predict_proba(self.X_test_tf))\n",
    "        self.predictions = (self.probabilities > 0.5).astype(int)[:, 1]\n",
    "\n",
    "    def find_optimal_vectorizer(self):\n",
    "        from concurrent.futures import ThreadPoolExecutor, as_completed\n",
    "        import multiprocessing\n",
    "        from tqdm import tqdm\n",
    "\n",
    "        import warnings\n",
    "        from sklearn.exceptions import ConvergenceWarning\n",
    "\n",
    "        with warnings.catch_warnings():\n",
    "            warnings.simplefilter(\"ignore\", category=ConvergenceWarning)\n",
    "            print('Tuning vectorizer for base classifier...')\n",
    "            old_score = self.val_score\n",
    "\n",
    "            # Helper function to evaluate each parameter combination\n",
    "            def evaluate_params(max_tokens, ngram_range):\n",
    "                from sklearn.feature_extraction.text import TfidfVectorizer\n",
    "                from sklearn.model_selection import train_test_split\n",
    "                from sklearn.linear_model import LogisticRegressionCV\n",
    "                from sklearn.metrics import f1_score\n",
    "\n",
    "                clf = LogisticRegressionCV(random_state=5)\n",
    "                vectorizer = TfidfVectorizer(max_features=max_tokens, ngram_range=ngram_range, strip_accents='unicode')\n",
    "                X_train = vectorizer.fit_transform(self.X_train)\n",
    "                X_test = vectorizer.transform(self.X_test)\n",
    "                X_train_split, X_val_split, y_train_split, y_val_split = train_test_split(\n",
    "                    X_train, self.y_train, test_size=0.2, random_state=5\n",
    "                )\n",
    "                clf.fit(X_train_split, y_train_split)\n",
    "                probs = clf.predict_proba(X_val_split)\n",
    "                preds = (probs[:, 1] > 0.5).astype(int)\n",
    "                score = f1_score(y_val_split, preds)\n",
    "                return score, max_tokens, ngram_range, vectorizer, clf, X_train, X_test, X_train_split, X_val_split, y_train_split, y_val_split, probs, preds\n",
    "\n",
    "            # Setting up ThreadPoolExecutor to use all available CPU cores\n",
    "            num_workers = multiprocessing.cpu_count()\n",
    "            with ThreadPoolExecutor(max_workers=num_workers) as executor:\n",
    "                # Submit all tasks and create a future_to_params mapping\n",
    "                future_to_params = {executor.submit(evaluate_params, max_tokens, ngram_range): (max_tokens, ngram_range)\n",
    "                                    for max_tokens in range(4500, 6000, 100)\n",
    "                                    for ngram_range in [(1,1), (1,5), (1,20)]}\n",
    "\n",
    "                # Process futures as they complete and update with a tqdm progress bar\n",
    "                for future in tqdm(as_completed(future_to_params), total=len(future_to_params), desc='Evaluating Vectorizers'):\n",
    "                    score, max_tokens, ngram_range, vectorizer, clf, X_train, X_test, X_train_split, X_val_split, y_train_split, y_val_split, probs, preds = future.result()\n",
    "                    if score >= self.val_score:\n",
    "                        # Updating shared state in a thread-safe manner\n",
    "                        with self._lock:\n",
    "                            if score > self.val_score:  # Double-check\n",
    "                                self.vectorizer = vectorizer\n",
    "                                self.vectorizer_params = {'max_features': max_tokens, 'ngram_range': ngram_range}\n",
    "                                self.X_train_tf, self.X_test_tf = X_train, X_test\n",
    "                                self.X_train_split, self.X_val_split, self.y_train_split, self.y_val_split = X_train_split, X_val_split, y_train_split, y_val_split\n",
    "                                self.clf = clf\n",
    "                                self.val_probabilities = probs\n",
    "                                self.val_predictions = preds\n",
    "                                self.val_score = score\n",
    "                                self.probabilities = self.clf.predict_proba(self.X_test_tf)\n",
    "                                self.predictions = (self.probabilities[:, 1] > 0.5).astype(int)\n",
    "\n",
    "            print(f\"Complete! \\nOptimal vectorizer token limit is: {self.vectorizer_params['max_features']} \\n w/ N-Gram Range of {self.vectorizer_params['ngram_range']} \\nNew Validation F1 Score is: {self.val_score} ({self.val_score/old_score -1:.0%})\")"
   ]
  },
  {
   "cell_type": "markdown",
   "metadata": {},
   "source": [
    "# Exploratory Data Analysis"
   ]
  },
  {
   "cell_type": "markdown",
   "metadata": {},
   "source": [
    "Our dataset comprises around 10,000 tweets, each containing the tweet's unique integer ID, the tweet's text, and optionally, a keyword extracted from the tweet, as well as the tweet's location.\n",
    "\n",
    "Before fitting a model to the dataset, the text data requires preprocessing. This involves converting the text data into a linear representation suitable for our model types. For our base classifier (sklearn LogReg), we'll employ TF-IDF preprocessing, while for our fine-tuned DistilBERT model, we'll utilize the appropriate DistilBERT preprocessor provided by Keras to transform our text data into the necessary representations.\n",
    "\n",
    "Evaluation Method:\n",
    "The model developed for this project will be submitted to the Kaggle leaderboard for the Natural Language Processing with Disaster Tweets competition. Consequently, it will be evaluated based on the competition's criteria, which relies on the F1 score. The F1 score is a combined metric of Precision and Recall.\n",
    "\n",
    "\n",
    "\n",
    "\n",
    "\n",
    "\n",
    "\n",
    "$F_1 = 2 * \\frac{\\text{Precision}*\\text{Recall}}{\\text{Precision} + \\text{Recall}}$\n",
    "\n",
    "Where Precision is the True Positive (TP) rate out of the sum of both TP and False Positive (FP) and Recall is the True Positive rate out of the sum of TP and False Negatives (FN).\n",
    "\n",
    "$\\text{Precision} = \\frac{\\text{TP}}{\\text{TP}+\\text{FP}}$\n",
    "\n",
    "$\\text{Recall} = \\frac{\\text{TP}}{\\text{TP} + \\text{FN}}$"
   ]
  },
  {
   "cell_type": "markdown",
   "metadata": {},
   "source": [
    "## Exploration"
   ]
  },
  {
   "cell_type": "code",
   "execution_count": 8,
   "metadata": {},
   "outputs": [
    {
     "name": "stdout",
     "output_type": "stream",
     "text": [
      "Making /data/ subfolder\n",
      "Exception occurred: \n",
      "[WinError 183] Cannot create a file when that file already exists: 'c:\\\\Users\\\\willa\\\\Documents\\\\GitHub\\\\DNN_NLP_Tweets\\\\nlp_tweets\\\\data'\n",
      "\n",
      " Fitting a 5-fold CV LogisticRegression model as the base classifier...\n",
      "Fitting model...\n",
      "\n",
      " Complete! \n",
      " Validation F1 Score: 0.750814332247557\n"
     ]
    }
   ],
   "source": [
    "competition_name = \"nlp-getting-started\"\n",
    "data = data_handler(competition_name, \"twt_pjt\")"
   ]
  },
  {
   "cell_type": "code",
   "execution_count": 9,
   "metadata": {},
   "outputs": [
    {
     "name": "stdout",
     "output_type": "stream",
     "text": [
      "There are 10876 tweets total (~0.08 MB)\n",
      "      \n",
      "There are 7613 tweets in the training dataset (~0.06 MB)\n",
      "      \n",
      " 6090 were placed in the training split \n",
      "      \n",
      " 1523 were placed in the validation split \n",
      "      \n",
      "There are an additional 3263 tweets in the test set (~0.03 MB)\n"
     ]
    }
   ],
   "source": [
    "print(f\"\"\"There are {data.X_train.shape[0] + data.X_test.shape[0]} tweets total (~{(data.X_train.memory_usage() + data.X_test.memory_usage())/1024**2:.2f} MB)\n",
    "      \\nThere are {data.X_train.shape[0]} tweets in the training dataset (~{(data.X_train.memory_usage())/1024**2:.2f} MB)\n",
    "      \\n {data.X_train_split.shape[0]} were placed in the training split \n",
    "      \\n {data.X_val_split.shape[0]} were placed in the validation split \n",
    "      \\nThere are an additional {data.X_test.shape[0]} tweets in the test set (~{(data.X_test.memory_usage())/1024**2:.2f} MB)\"\"\")"
   ]
  },
  {
   "cell_type": "code",
   "execution_count": 10,
   "metadata": {},
   "outputs": [
    {
     "data": {
      "text/html": [
       "<div>\n",
       "<style scoped>\n",
       "    .dataframe tbody tr th:only-of-type {\n",
       "        vertical-align: middle;\n",
       "    }\n",
       "\n",
       "    .dataframe tbody tr th {\n",
       "        vertical-align: top;\n",
       "    }\n",
       "\n",
       "    .dataframe thead th {\n",
       "        text-align: right;\n",
       "    }\n",
       "</style>\n",
       "<table border=\"1\" class=\"dataframe\">\n",
       "  <thead>\n",
       "    <tr style=\"text-align: right;\">\n",
       "      <th></th>\n",
       "      <th>id</th>\n",
       "      <th>keyword</th>\n",
       "      <th>location</th>\n",
       "      <th>text</th>\n",
       "    </tr>\n",
       "  </thead>\n",
       "  <tbody>\n",
       "    <tr>\n",
       "      <th>0</th>\n",
       "      <td>0</td>\n",
       "      <td>NaN</td>\n",
       "      <td>NaN</td>\n",
       "      <td>Just happened a terrible car crash</td>\n",
       "    </tr>\n",
       "    <tr>\n",
       "      <th>1</th>\n",
       "      <td>2</td>\n",
       "      <td>NaN</td>\n",
       "      <td>NaN</td>\n",
       "      <td>Heard about #earthquake is different cities, s...</td>\n",
       "    </tr>\n",
       "    <tr>\n",
       "      <th>2</th>\n",
       "      <td>3</td>\n",
       "      <td>NaN</td>\n",
       "      <td>NaN</td>\n",
       "      <td>there is a forest fire at spot pond, geese are...</td>\n",
       "    </tr>\n",
       "    <tr>\n",
       "      <th>3</th>\n",
       "      <td>9</td>\n",
       "      <td>NaN</td>\n",
       "      <td>NaN</td>\n",
       "      <td>Apocalypse lighting. #Spokane #wildfires</td>\n",
       "    </tr>\n",
       "    <tr>\n",
       "      <th>4</th>\n",
       "      <td>11</td>\n",
       "      <td>NaN</td>\n",
       "      <td>NaN</td>\n",
       "      <td>Typhoon Soudelor kills 28 in China and Taiwan</td>\n",
       "    </tr>\n",
       "  </tbody>\n",
       "</table>\n",
       "</div>"
      ],
      "text/plain": [
       "   id keyword location                                               text\n",
       "0   0     NaN      NaN                 Just happened a terrible car crash\n",
       "1   2     NaN      NaN  Heard about #earthquake is different cities, s...\n",
       "2   3     NaN      NaN  there is a forest fire at spot pond, geese are...\n",
       "3   9     NaN      NaN           Apocalypse lighting. #Spokane #wildfires\n",
       "4  11     NaN      NaN      Typhoon Soudelor kills 28 in China and Taiwan"
      ]
     },
     "execution_count": 10,
     "metadata": {},
     "output_type": "execute_result"
    }
   ],
   "source": [
    "data.test.head()"
   ]
  },
  {
   "cell_type": "code",
   "execution_count": 11,
   "metadata": {},
   "outputs": [
    {
     "data": {
      "text/plain": [
       "keyword\n",
       "deluged               23\n",
       "demolished            22\n",
       "rubble                22\n",
       "first%20responders    21\n",
       "seismic               21\n",
       "                      ..\n",
       "threat                 5\n",
       "fatalities             5\n",
       "forest%20fire          5\n",
       "inundation             4\n",
       "epicentre              1\n",
       "Name: count, Length: 221, dtype: int64"
      ]
     },
     "execution_count": 11,
     "metadata": {},
     "output_type": "execute_result"
    }
   ],
   "source": [
    "data.test.keyword.value_counts()"
   ]
  },
  {
   "cell_type": "markdown",
   "metadata": {},
   "source": [
    "Only ~ $\\frac{221}{10000}$ have keywords assigned, likely not a useful feature - we can focus on predicting from text data."
   ]
  },
  {
   "cell_type": "code",
   "execution_count": 97,
   "metadata": {},
   "outputs": [
    {
     "data": {
      "text/plain": [
       "<Axes: xlabel='tweet length', ylabel='Frequency'>"
      ]
     },
     "execution_count": 97,
     "metadata": {},
     "output_type": "execute_result"
    },
    {
     "data": {
      "image/png": "[encoded data removed]",
      "text/plain": [
       "<Figure size 640x480 with 1 Axes>"
      ]
     },
     "metadata": {},
     "output_type": "display_data"
    }
   ],
   "source": [
    "data.test['text'].str.len().plot(kind='hist', xlabel='tweet length')"
   ]
  },
  {
   "cell_type": "markdown",
   "metadata": {},
   "source": [
    "### Some Model Exporation"
   ]
  },
  {
   "cell_type": "code",
   "execution_count": 120,
   "metadata": {},
   "outputs": [
    {
     "name": "stdout",
     "output_type": "stream",
     "text": [
      "Tuning vectorizer for base classifier...\n"
     ]
    },
    {
     "name": "stderr",
     "output_type": "stream",
     "text": [
      "Evaluating Vectorizers: 100%|██████████| 45/45 [01:01<00:00,  1.36s/it]\n"
     ]
    },
    {
     "name": "stdout",
     "output_type": "stream",
     "text": [
      "Complete! \n",
      "Optimal vectorizer token limit is: 5000 \n",
      " w/ N-Gram Range of (1, 1) \n",
      "New Validation F1 Score is: 0.7512274959083469 (0%)\n"
     ]
    }
   ],
   "source": [
    "data.find_optimal_vectorizer()"
   ]
  },
  {
   "cell_type": "code",
   "execution_count": 109,
   "metadata": {},
   "outputs": [
    {
     "name": "stdout",
     "output_type": "stream",
     "text": [
      "Fitting model...\n",
      "\n",
      " Complete! \n",
      " Validation F1 Score: 0.7017241379310345\n"
     ]
    }
   ],
   "source": [
    "from sklearn.ensemble import ExtraTreesClassifier\n",
    "\n",
    "data.pop_clf(\n",
    "    ExtraTreesClassifier(n_estimators=1000)\n",
    ")"
   ]
  },
  {
   "cell_type": "code",
   "execution_count": 99,
   "metadata": {},
   "outputs": [
    {
     "name": "stdout",
     "output_type": "stream",
     "text": [
      "Fitting model...\n",
      "\n",
      " Complete! \n",
      " Validation F1 Score: 0.7117194183062446\n"
     ]
    }
   ],
   "source": [
    "from sklearn.ensemble import GradientBoostingClassifier\n",
    "\n",
    "data.pop_clf(\n",
    "    GradientBoostingClassifier(n_estimators=500)\n",
    ")"
   ]
  },
  {
   "cell_type": "markdown",
   "metadata": {},
   "source": [
    "BERT Architecture Overview:\n",
    "Input Layer:\n",
    "\n",
    "The input layer consists of \"input_ids_custom\" and \"input_mask_custom\", defined using TensorFlow's Keras API. These placeholders represent sequences of integer tokens (e.g., word IDs) and attention masks (indicating valid tokens and padding), respectively.\n",
    "The shape is specified as (max_len,), where max_len is the maximum length of input sequences.\n",
    "BERT Embeddings:\n",
    "\n",
    "The BERT model is applied to the input token IDs (\"input_ids_custom\") and attention masks (\"input_mask_custom\") to generate embeddings.\n",
    "The \"pooler_output\" from the BERT model, which provides a representation of the entire input sequence, is selected using [1].\n",
    "Dropout Layers:\n",
    "\n",
    "To prevent overfitting, dropout is applied by randomly setting a fraction of input units to zero during training. A dropout rate of 0.1 is applied.\n",
    "Another dropout layer is added after the first one for further regularization.\n",
    "Dense Layers:\n",
    "\n",
    "A dense layer with 128 neurons and ReLU activation function is added to introduce non-linearity to the model.\n",
    "Another dense layer with 32 neurons and ReLU activation function follows.\n",
    "Output Layer:\n",
    "\n",
    "The output layer consists of a single neuron with a sigmoid activation function, commonly used for binary classification tasks. It represents the probability of the input text belonging to the positive class (e.g., disaster tweet).\n",
    "Model Compilation:\n",
    "\n",
    "The Keras Model is constructed, specifying the input and output layers.\n",
    "The BERT layer is set to be trainable during training, allowing fine-tuning for the specific task at hand.\n",
    "Overall, this architecture utilizes BERT embeddings to capture contextual information from input text sequences and combines them with dense layers for binary classification on text data.\n",
    "\n",
    "\n",
    "\n",
    "\n",
    "\n",
    "\n",
    "\n",
    "\n",
    "\n",
    "# BERT\n",
    "\n",
    "Compare our base case classifier to a pre-trained DNN Transformer model.\n",
    "\n",
    "We will use [DistilBERT](https://arxiv.org/abs/1910.01108), a distilled form of the BERT model with approx. 97% of the BERT model's performance but at half the model size and improved inference times.\n",
    "\n",
    "DistilBERT requires us to process our vectorized data into tensors prior to using it as input."
   ]
  },
  {
   "cell_type": "markdown",
   "metadata": {},
   "source": [
    "## Process the Data"
   ]
  },
  {
   "cell_type": "code",
   "execution_count": 13,
   "metadata": {},
   "outputs": [],
   "source": [
    "BATCH_SIZE = 32\n",
    "NUM_TRAINING_EXAMPLES = data.X_train.shape[0]\n",
    "TRAIN_SPLIT = 0.8\n",
    "VAL_SPLIT = 0.2\n",
    "STEPS_PER_EPOCH = int(NUM_TRAINING_EXAMPLES)*TRAIN_SPLIT // BATCH_SIZE\n",
    "\n",
    "EPOCHS = 2\n",
    "AUTO = tf.data.experimental.AUTOTUNE"
   ]
  },
  {
   "cell_type": "markdown",
   "metadata": {},
   "source": [
    "## Load Model Preset"
   ]
  },
  {
   "cell_type": "code",
   "execution_count": 14,
   "metadata": {},
   "outputs": [
    {
     "data": {
      "text/html": [
       "<pre style=\"white-space:pre;overflow-x:auto;line-height:normal;font-family:Menlo,'DejaVu Sans Mono',consolas,'Courier New',monospace\"><span style=\"font-weight: bold\">Preprocessor: \"distil_bert_preprocessor\"</span>\n",
       "</pre>\n"
      ],
      "text/plain": [
       "\u001b[1mPreprocessor: \"distil_bert_preprocessor\"\u001b[0m\n"
      ]
     },
     "metadata": {},
     "output_type": "display_data"
    },
    {
     "data": {
      "text/html": [
       "<pre style=\"white-space:pre;overflow-x:auto;line-height:normal;font-family:Menlo,'DejaVu Sans Mono',consolas,'Courier New',monospace\">┏━━━━━━━━━━━━━━━━━━━━━━━━━━━━━━━━━━━━━━━━━━━━━━━━━━━━┳━━━━━━━━━━━━━━━━━━━━━━━━━━━━━━━━━━━━━━━━━━━━━━━━━━━━━┓\n",
       "┃<span style=\"font-weight: bold\"> Tokenizer (type)                                   </span>┃<span style=\"font-weight: bold\">                                             Vocab # </span>┃\n",
       "┡━━━━━━━━━━━━━━━━━━━━━━━━━━━━━━━━━━━━━━━━━━━━━━━━━━━━╇━━━━━━━━━━━━━━━━━━━━━━━━━━━━━━━━━━━━━━━━━━━━━━━━━━━━━┩\n",
       "│ distil_bert_tokenizer (<span style=\"color: #0087ff; text-decoration-color: #0087ff\">DistilBertTokenizer</span>)        │                                              <span style=\"color: #00af00; text-decoration-color: #00af00\">30,522</span> │\n",
       "└────────────────────────────────────────────────────┴─────────────────────────────────────────────────────┘\n",
       "</pre>\n"
      ],
      "text/plain": [
       "┏━━━━━━━━━━━━━━━━━━━━━━━━━━━━━━━━━━━━━━━━━━━━━━━━━━━━┳━━━━━━━━━━━━━━━━━━━━━━━━━━━━━━━━━━━━━━━━━━━━━━━━━━━━━┓\n",
       "┃\u001b[1m \u001b[0m\u001b[1mTokenizer (type)                                  \u001b[0m\u001b[1m \u001b[0m┃\u001b[1m \u001b[0m\u001b[1m                                            Vocab #\u001b[0m\u001b[1m \u001b[0m┃\n",
       "┡━━━━━━━━━━━━━━━━━━━━━━━━━━━━━━━━━━━━━━━━━━━━━━━━━━━━╇━━━━━━━━━━━━━━━━━━━━━━━━━━━━━━━━━━━━━━━━━━━━━━━━━━━━━┩\n",
       "│ distil_bert_tokenizer (\u001b[38;5;33mDistilBertTokenizer\u001b[0m)        │                                              \u001b[38;5;34m30,522\u001b[0m │\n",
       "└────────────────────────────────────────────────────┴─────────────────────────────────────────────────────┘\n"
      ]
     },
     "metadata": {},
     "output_type": "display_data"
    },
    {
     "data": {
      "text/html": [
       "<pre style=\"white-space:pre;overflow-x:auto;line-height:normal;font-family:Menlo,'DejaVu Sans Mono',consolas,'Courier New',monospace\"><span style=\"font-weight: bold\">Model: \"distil_bert_classifier\"</span>\n",
       "</pre>\n"
      ],
      "text/plain": [
       "\u001b[1mModel: \"distil_bert_classifier\"\u001b[0m\n"
      ]
     },
     "metadata": {},
     "output_type": "display_data"
    },
    {
     "data": {
      "text/html": [
       "<pre style=\"white-space:pre;overflow-x:auto;line-height:normal;font-family:Menlo,'DejaVu Sans Mono',consolas,'Courier New',monospace\">┏━━━━━━━━━━━━━━━━━━━━━━━━━━━━━━━━━━━━━━━━━━━━━━━┳━━━━━━━━━━━━━━━━━━━━━━━━━━━━━━━━━━━━━━━━┳━━━━━━━━━━━━━━━━━┓\n",
       "┃<span style=\"font-weight: bold\"> Layer (type)                                  </span>┃<span style=\"font-weight: bold\"> Output Shape                           </span>┃<span style=\"font-weight: bold\">         Param # </span>┃\n",
       "┡━━━━━━━━━━━━━━━━━━━━━━━━━━━━━━━━━━━━━━━━━━━━━━━╇━━━━━━━━━━━━━━━━━━━━━━━━━━━━━━━━━━━━━━━━╇━━━━━━━━━━━━━━━━━┩\n",
       "│ padding_mask (<span style=\"color: #0087ff; text-decoration-color: #0087ff\">InputLayer</span>)                     │ (<span style=\"color: #00d7ff; text-decoration-color: #00d7ff\">None</span>, <span style=\"color: #00d7ff; text-decoration-color: #00d7ff\">None</span>)                           │               <span style=\"color: #00af00; text-decoration-color: #00af00\">0</span> │\n",
       "├───────────────────────────────────────────────┼────────────────────────────────────────┼─────────────────┤\n",
       "│ token_ids (<span style=\"color: #0087ff; text-decoration-color: #0087ff\">InputLayer</span>)                        │ (<span style=\"color: #00d7ff; text-decoration-color: #00d7ff\">None</span>, <span style=\"color: #00d7ff; text-decoration-color: #00d7ff\">None</span>)                           │               <span style=\"color: #00af00; text-decoration-color: #00af00\">0</span> │\n",
       "├───────────────────────────────────────────────┼────────────────────────────────────────┼─────────────────┤\n",
       "│ distil_bert_backbone (<span style=\"color: #0087ff; text-decoration-color: #0087ff\">DistilBertBackbone</span>)     │ (<span style=\"color: #00d7ff; text-decoration-color: #00d7ff\">None</span>, <span style=\"color: #00d7ff; text-decoration-color: #00d7ff\">None</span>, <span style=\"color: #00af00; text-decoration-color: #00af00\">768</span>)                      │      <span style=\"color: #00af00; text-decoration-color: #00af00\">66,362,880</span> │\n",
       "├───────────────────────────────────────────────┼────────────────────────────────────────┼─────────────────┤\n",
       "│ tf.__operators__.getitem (<span style=\"color: #0087ff; text-decoration-color: #0087ff\">SlicingOpLambda</span>)    │ (<span style=\"color: #00d7ff; text-decoration-color: #00d7ff\">None</span>, <span style=\"color: #00af00; text-decoration-color: #00af00\">768</span>)                            │               <span style=\"color: #00af00; text-decoration-color: #00af00\">0</span> │\n",
       "├───────────────────────────────────────────────┼────────────────────────────────────────┼─────────────────┤\n",
       "│ pooled_dense (<span style=\"color: #0087ff; text-decoration-color: #0087ff\">Dense</span>)                          │ (<span style=\"color: #00d7ff; text-decoration-color: #00d7ff\">None</span>, <span style=\"color: #00af00; text-decoration-color: #00af00\">768</span>)                            │         <span style=\"color: #00af00; text-decoration-color: #00af00\">590,592</span> │\n",
       "├───────────────────────────────────────────────┼────────────────────────────────────────┼─────────────────┤\n",
       "│ classifier_dropout (<span style=\"color: #0087ff; text-decoration-color: #0087ff\">Dropout</span>)                  │ (<span style=\"color: #00d7ff; text-decoration-color: #00d7ff\">None</span>, <span style=\"color: #00af00; text-decoration-color: #00af00\">768</span>)                            │               <span style=\"color: #00af00; text-decoration-color: #00af00\">0</span> │\n",
       "├───────────────────────────────────────────────┼────────────────────────────────────────┼─────────────────┤\n",
       "│ logits (<span style=\"color: #0087ff; text-decoration-color: #0087ff\">Dense</span>)                                │ (<span style=\"color: #00d7ff; text-decoration-color: #00d7ff\">None</span>, <span style=\"color: #00af00; text-decoration-color: #00af00\">2</span>)                              │           <span style=\"color: #00af00; text-decoration-color: #00af00\">1,538</span> │\n",
       "└───────────────────────────────────────────────┴────────────────────────────────────────┴─────────────────┘\n",
       "</pre>\n"
      ],
      "text/plain": [
       "┏━━━━━━━━━━━━━━━━━━━━━━━━━━━━━━━━━━━━━━━━━━━━━━━┳━━━━━━━━━━━━━━━━━━━━━━━━━━━━━━━━━━━━━━━━┳━━━━━━━━━━━━━━━━━┓\n",
       "┃\u001b[1m \u001b[0m\u001b[1mLayer (type)                                 \u001b[0m\u001b[1m \u001b[0m┃\u001b[1m \u001b[0m\u001b[1mOutput Shape                          \u001b[0m\u001b[1m \u001b[0m┃\u001b[1m \u001b[0m\u001b[1m        Param #\u001b[0m\u001b[1m \u001b[0m┃\n",
       "┡━━━━━━━━━━━━━━━━━━━━━━━━━━━━━━━━━━━━━━━━━━━━━━━╇━━━━━━━━━━━━━━━━━━━━━━━━━━━━━━━━━━━━━━━━╇━━━━━━━━━━━━━━━━━┩\n",
       "│ padding_mask (\u001b[38;5;33mInputLayer\u001b[0m)                     │ (\u001b[38;5;45mNone\u001b[0m, \u001b[38;5;45mNone\u001b[0m)                           │               \u001b[38;5;34m0\u001b[0m │\n",
       "├───────────────────────────────────────────────┼────────────────────────────────────────┼─────────────────┤\n",
       "│ token_ids (\u001b[38;5;33mInputLayer\u001b[0m)                        │ (\u001b[38;5;45mNone\u001b[0m, \u001b[38;5;45mNone\u001b[0m)                           │               \u001b[38;5;34m0\u001b[0m │\n",
       "├───────────────────────────────────────────────┼────────────────────────────────────────┼─────────────────┤\n",
       "│ distil_bert_backbone (\u001b[38;5;33mDistilBertBackbone\u001b[0m)     │ (\u001b[38;5;45mNone\u001b[0m, \u001b[38;5;45mNone\u001b[0m, \u001b[38;5;34m768\u001b[0m)                      │      \u001b[38;5;34m66,362,880\u001b[0m │\n",
       "├───────────────────────────────────────────────┼────────────────────────────────────────┼─────────────────┤\n",
       "│ tf.__operators__.getitem (\u001b[38;5;33mSlicingOpLambda\u001b[0m)    │ (\u001b[38;5;45mNone\u001b[0m, \u001b[38;5;34m768\u001b[0m)                            │               \u001b[38;5;34m0\u001b[0m │\n",
       "├───────────────────────────────────────────────┼────────────────────────────────────────┼─────────────────┤\n",
       "│ pooled_dense (\u001b[38;5;33mDense\u001b[0m)                          │ (\u001b[38;5;45mNone\u001b[0m, \u001b[38;5;34m768\u001b[0m)                            │         \u001b[38;5;34m590,592\u001b[0m │\n",
       "├───────────────────────────────────────────────┼────────────────────────────────────────┼─────────────────┤\n",
       "│ classifier_dropout (\u001b[38;5;33mDropout\u001b[0m)                  │ (\u001b[38;5;45mNone\u001b[0m, \u001b[38;5;34m768\u001b[0m)                            │               \u001b[38;5;34m0\u001b[0m │\n",
       "├───────────────────────────────────────────────┼────────────────────────────────────────┼─────────────────┤\n",
       "│ logits (\u001b[38;5;33mDense\u001b[0m)                                │ (\u001b[38;5;45mNone\u001b[0m, \u001b[38;5;34m2\u001b[0m)                              │           \u001b[38;5;34m1,538\u001b[0m │\n",
       "└───────────────────────────────────────────────┴────────────────────────────────────────┴─────────────────┘\n"
      ]
     },
     "metadata": {},
     "output_type": "display_data"
    },
    {
     "data": {
      "text/html": [
       "<pre style=\"white-space:pre;overflow-x:auto;line-height:normal;font-family:Menlo,'DejaVu Sans Mono',consolas,'Courier New',monospace\"><span style=\"font-weight: bold\"> Total params: </span><span style=\"color: #00af00; text-decoration-color: #00af00\">66,955,010</span> (2.00 GB)\n",
       "</pre>\n"
      ],
      "text/plain": [
       "\u001b[1m Total params: \u001b[0m\u001b[38;5;34m66,955,010\u001b[0m (2.00 GB)\n"
      ]
     },
     "metadata": {},
     "output_type": "display_data"
    },
    {
     "data": {
      "text/html": [
       "<pre style=\"white-space:pre;overflow-x:auto;line-height:normal;font-family:Menlo,'DejaVu Sans Mono',consolas,'Courier New',monospace\"><span style=\"font-weight: bold\"> Trainable params: </span><span style=\"color: #00af00; text-decoration-color: #00af00\">66,955,010</span> (2.00 GB)\n",
       "</pre>\n"
      ],
      "text/plain": [
       "\u001b[1m Trainable params: \u001b[0m\u001b[38;5;34m66,955,010\u001b[0m (2.00 GB)\n"
      ]
     },
     "metadata": {},
     "output_type": "display_data"
    },
    {
     "data": {
      "text/html": [
       "<pre style=\"white-space:pre;overflow-x:auto;line-height:normal;font-family:Menlo,'DejaVu Sans Mono',consolas,'Courier New',monospace\"><span style=\"font-weight: bold\"> Non-trainable params: </span><span style=\"color: #00af00; text-decoration-color: #00af00\">0</span> (0.00 B)\n",
       "</pre>\n"
      ],
      "text/plain": [
       "\u001b[1m Non-trainable params: \u001b[0m\u001b[38;5;34m0\u001b[0m (0.00 B)\n"
      ]
     },
     "metadata": {},
     "output_type": "display_data"
    }
   ],
   "source": [
    "pretrained_model = \"distil_bert_base_en_uncased\"\n",
    "\n",
    "preprocessor = keras_nlp.models.DistilBertPreprocessor.from_preset(pretrained_model\n",
    "                                                                   , sequence_length = 100\n",
    ")\n",
    "\n",
    "classifier = keras_nlp.models.DistilBertClassifier.from_preset(pretrained_model,\n",
    "                                                               preprocessor = preprocessor, \n",
    "                                                               num_classes=2)\n",
    "classifier.summary()"
   ]
  },
  {
   "cell_type": "markdown",
   "metadata": {},
   "source": [
    "## Finetune Model"
   ]
  },
  {
   "cell_type": "code",
   "execution_count": 19,
   "metadata": {},
   "outputs": [],
   "source": [
    "# Compile\n",
    "classifier.compile(\n",
    "    loss=keras.losses.SparseCategoricalCrossentropy(from_logits=True), \n",
    "    optimizer=tf.keras.optimizers.Adam(1e-5),\n",
    "    metrics= [\"accuracy\", keras.metrics.F1Score()]  \n",
    ")\n",
    "\n",
    "checkpoint_path = \"checkpoints/cp.ckpt\"\n",
    "checkpoint_dir = os.path.dirname(checkpoint_path)\n",
    "\n",
    "# Create a callback that saves the model's weights\n",
    "cp_callback = tf.keras.callbacks.ModelCheckpoint(filepath=checkpoint_path,\n",
    "                                                 save_weights_only=True,\n",
    "                                                 verbose=1)\n",
    "try:\n",
    "    classifier.load_weights(checkpoint_path)\n",
    "except:\n",
    "    # Fit\n",
    "    history = classifier.fit(x=data._X_train_split,\n",
    "                            y=data.y_train_split,\n",
    "                            batch_size=BATCH_SIZE,\n",
    "                            epochs=EPOCHS, \n",
    "                            validation_data=(data._X_val_split, data.y_val_split),\n",
    "                            callbacks=[cp_callback]\n",
    "                            )"
   ]
  },
  {
   "cell_type": "code",
   "execution_count": 93,
   "metadata": {},
   "outputs": [],
   "source": [
    "def plotConfusionMatrix(y_true, y_pred, dataset):\n",
    "    plot = ConfusionMatrixDisplay.from_predictions(\n",
    "        y_true,\n",
    "        np.argmax(y_pred, axis=1),\n",
    "        display_labels=[\"Not Disaster\",\"Disaster\"],\n",
    "        cmap=plt.cm.Blues\n",
    "    )\n",
    "\n",
    "    tn, fp, fn, tp = confusion_matrix(y_true, np.argmax(y_pred, axis=1)).ravel()\n",
    "    f1_score = tp / (tp+((fn+fp)/2))\n",
    "\n",
    "    plot.ax_.set_title(\"Confusion Matrix on \" + dataset + \" Dataset -- F1 Score: \" + str(f1_score.round(2)))"
   ]
  },
  {
   "cell_type": "code",
   "execution_count": 94,
   "metadata": {},
   "outputs": [
    {
     "name": "stdout",
     "output_type": "stream",
     "text": [
      "191/191 [==============================] - 164s 854ms/step\n"
     ]
    },
    {
     "data": {
      "image/png": "[encoded data removed]",
      "text/plain": [
       "<Figure size 640x480 with 2 Axes>"
      ]
     },
     "metadata": {},
     "output_type": "display_data"
    }
   ],
   "source": [
    "y_pred_train = classifier.predict(data._X_train_split)\n",
    "\n",
    "plotConfusionMatrix(data.y_train_split, y_pred_train, \"Training\")"
   ]
  },
  {
   "cell_type": "code",
   "execution_count": 95,
   "metadata": {},
   "outputs": [
    {
     "name": "stdout",
     "output_type": "stream",
     "text": [
      "48/48 [==============================] - 44s 906ms/step\n",
      "102/102 [==============================] - 90s 875ms/step\n"
     ]
    },
    {
     "data": {
      "image/png": "[encoded data removed]",
      "text/plain": [
       "<Figure size 640x480 with 2 Axes>"
      ]
     },
     "metadata": {},
     "output_type": "display_data"
    }
   ],
   "source": [
    "y_pred_val = classifier.predict(data._X_val_split)\n",
    "bert_preds = classifier.predict(data.X_test)\n",
    "\n",
    "plotConfusionMatrix(data.y_val_split, y_pred_val, \"Validation\")"
   ]
  },
  {
   "cell_type": "markdown",
   "metadata": {},
   "source": [
    "# Submit using model w/ best validation F1 Score"
   ]
  },
  {
   "cell_type": "markdown",
   "metadata": {},
   "source": [
    "Our top-performing model is the fine-tuned DistilBERT model, significantly outperforming others with a validation F1 score of approximately 0.8, compared to the next best model at around 0.75.\n",
    "\n",
    "Additionally, our confusion matrices indicate a well-fitted model, with a relatively low rate of false positives or false negatives.\n",
    "\n",
    "\n",
    "\n",
    "\n",
    "\n",
    "\n"
   ]
  },
  {
   "cell_type": "code",
   "execution_count": 82,
   "metadata": {},
   "outputs": [
    {
     "name": "stdout",
     "output_type": "stream",
     "text": [
      "BERT Model\n",
      "Validation F1Score: 0.79\n"
     ]
    },
    {
     "data": {
      "text/html": [
       "<div>\n",
       "<style scoped>\n",
       "    .dataframe tbody tr th:only-of-type {\n",
       "        vertical-align: middle;\n",
       "    }\n",
       "\n",
       "    .dataframe tbody tr th {\n",
       "        vertical-align: top;\n",
       "    }\n",
       "\n",
       "    .dataframe thead th {\n",
       "        text-align: right;\n",
       "    }\n",
       "</style>\n",
       "<table border=\"1\" class=\"dataframe\">\n",
       "  <thead>\n",
       "    <tr style=\"text-align: right;\">\n",
       "      <th></th>\n",
       "      <th>id</th>\n",
       "      <th>target</th>\n",
       "    </tr>\n",
       "  </thead>\n",
       "  <tbody>\n",
       "    <tr>\n",
       "      <th>0</th>\n",
       "      <td>0</td>\n",
       "      <td>1</td>\n",
       "    </tr>\n",
       "    <tr>\n",
       "      <th>1</th>\n",
       "      <td>2</td>\n",
       "      <td>1</td>\n",
       "    </tr>\n",
       "    <tr>\n",
       "      <th>2</th>\n",
       "      <td>3</td>\n",
       "      <td>1</td>\n",
       "    </tr>\n",
       "    <tr>\n",
       "      <th>3</th>\n",
       "      <td>9</td>\n",
       "      <td>1</td>\n",
       "    </tr>\n",
       "    <tr>\n",
       "      <th>4</th>\n",
       "      <td>11</td>\n",
       "      <td>1</td>\n",
       "    </tr>\n",
       "    <tr>\n",
       "      <th>...</th>\n",
       "      <td>...</td>\n",
       "      <td>...</td>\n",
       "    </tr>\n",
       "    <tr>\n",
       "      <th>3258</th>\n",
       "      <td>10861</td>\n",
       "      <td>1</td>\n",
       "    </tr>\n",
       "    <tr>\n",
       "      <th>3259</th>\n",
       "      <td>10865</td>\n",
       "      <td>1</td>\n",
       "    </tr>\n",
       "    <tr>\n",
       "      <th>3260</th>\n",
       "      <td>10868</td>\n",
       "      <td>1</td>\n",
       "    </tr>\n",
       "    <tr>\n",
       "      <th>3261</th>\n",
       "      <td>10874</td>\n",
       "      <td>1</td>\n",
       "    </tr>\n",
       "    <tr>\n",
       "      <th>3262</th>\n",
       "      <td>10875</td>\n",
       "      <td>1</td>\n",
       "    </tr>\n",
       "  </tbody>\n",
       "</table>\n",
       "<p>3263 rows × 2 columns</p>\n",
       "</div>"
      ],
      "text/plain": [
       "         id  target\n",
       "0         0       1\n",
       "1         2       1\n",
       "2         3       1\n",
       "3         9       1\n",
       "4        11       1\n",
       "...     ...     ...\n",
       "3258  10861       1\n",
       "3259  10865       1\n",
       "3260  10868       1\n",
       "3261  10874       1\n",
       "3262  10875       1\n",
       "\n",
       "[3263 rows x 2 columns]"
      ]
     },
     "execution_count": 82,
     "metadata": {},
     "output_type": "execute_result"
    }
   ],
   "source": [
    "from sklearn.metrics._classification import f1_score\n",
    "\n",
    "try:\n",
    "    y_pred_val = np.argmax(y_pred_val, axis=1)\n",
    "except:\n",
    "    pass\n",
    "try:\n",
    "    bert_preds = np.argmax(bert_preds, axis=1)\n",
    "except:\n",
    "    pass\n",
    "\n",
    "f1_score_bert = f1_score(y_pred=y_pred_val, y_true=data.y_val_split)\n",
    "\n",
    "if f1_score_bert > data.val_score:\n",
    "    print('BERT Model')\n",
    "    print(f'Validation F1Score: {f1_score_bert:.2f}')\n",
    "    preds = bert_preds\n",
    "else:\n",
    "    print('base Model')\n",
    "    print(f'Validation F1Score: {data.val_score:.2f}')\n",
    "    preds = data.predictions\n",
    "\n",
    "df_submission = pd.DataFrame(data.test['id'], columns=['id'])\n",
    "df_submission['target'] = preds\n",
    "df_submission = df_submission[['id', 'target']]\n",
    "df_submission.to_csv('submission.csv', index=False)\n",
    "df_submission\n"
   ]
  },
  {
   "cell_type": "code",
   "execution_count": 84,
   "metadata": {},
   "outputs": [
    {
     "name": "stderr",
     "output_type": "stream",
     "text": [
      "100%|██████████| 25.4k/25.4k [00:00<00:00, 34.6kB/s]\n"
     ]
    },
    {
     "data": {
      "text/plain": [
       "Successfully submitted to Natural Language Processing with Disaster Tweets"
      ]
     },
     "execution_count": 84,
     "metadata": {},
     "output_type": "execute_result"
    }
   ],
   "source": [
    "competition_name = \"nlp-getting-started\"\n",
    "sbmt_msg = \"A brief demo of two approaches to an NLP binary classification problem.\"\n",
    "kaggle.api.competition_submit(\"submission.csv\", message = sbmt_msg, competition=competition_name)"
   ]
  },
  {
   "cell_type": "markdown",
   "metadata": {},
   "source": [
    "![](leaderboard_pos.png)"
   ]
  }
 ],
 "metadata": {
  "kernelspec": {
   "display_name": "Python 3",
   "language": "python",
   "name": "python3"
  },
  "language_info": {
   "codemirror_mode": {
    "name": "ipython",
    "version": 3
   },
   "file_extension": ".py",
   "mimetype": "text/x-python",
   "name": "python",
   "nbconvert_exporter": "python",
   "pygments_lexer": "ipython3",
   "version": "3.10.11"
  }
 },
 "nbformat": 4,
 "nbformat_minor": 2
}
